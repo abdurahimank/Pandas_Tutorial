{
 "cells": [
  {
   "cell_type": "markdown",
   "id": "9e0488d3-d327-47a5-95b5-16b8baa817d2",
   "metadata": {},
   "source": [
    "##### import pandas as pd"
   ]
  },
  {
   "cell_type": "code",
   "execution_count": null,
   "id": "02e670c6-9730-448b-8072-1194312af86d",
   "metadata": {},
   "outputs": [],
   "source": []
  },
  {
   "cell_type": "code",
   "execution_count": null,
   "id": "d567500b-c906-48e7-b838-2b9651ca089e",
   "metadata": {},
   "outputs": [],
   "source": []
  },
  {
   "cell_type": "code",
   "execution_count": null,
   "id": "3a68d895-b955-49db-ba38-16e90b0ec7db",
   "metadata": {},
   "outputs": [],
   "source": []
  },
  {
   "cell_type": "code",
   "execution_count": null,
   "id": "203b564b-ab8c-4974-bff3-26a7898a16e3",
   "metadata": {},
   "outputs": [],
   "source": []
  },
  {
   "cell_type": "code",
   "execution_count": null,
   "id": "dd471591-1998-4704-932e-42b9b39d0fc8",
   "metadata": {},
   "outputs": [],
   "source": []
  },
  {
   "cell_type": "markdown",
   "id": "eb499b87-abeb-45ba-87df-20b633c47552",
   "metadata": {},
   "source": [
    "## Python Pandas | Working with CSV Files\n",
    "[Test - Hackerrank](https://www.hackerrank.com/test/gdc0h2kp88c/questions/9i4cisjq994)"
   ]
  },
  {
   "cell_type": "code",
   "execution_count": 7,
   "id": "abc7b00d-3aa3-4843-b820-cbc07baab264",
   "metadata": {},
   "outputs": [
    {
     "name": "stdout",
     "output_type": "stream",
     "text": [
      "    Student_height  Student_weight\n",
      "s1           176.2            85.1\n",
      "s2           158.4            90.2\n",
      "s3           167.6            76.8\n",
      "s4           156.2            80.4\n",
      "s5           161.4            78.9\n"
     ]
    }
   ],
   "source": [
    "# Task 1\n",
    "import pandas as pd \n",
    "heights_A = pd.Series([176.2, 158.4, 167.6, 156.2, 161.4], index=[\"s1\", \"s2\", \"s3\", \"s4\", \"s5\"])\n",
    "weights_A = pd.Series([85.1, 90.2, 76.8, 80.4, 78.9], index=[\"s1\", \"s2\", \"s3\", \"s4\", \"s5\"])\n",
    "data = {\"Student_height\" : heights_A, \"Student_weight\" : weights_A}\n",
    "df_A = pd.DataFrame(data)\n",
    "# print(df_A)\n",
    "df_A.to_csv(\"classA.csv\")"
   ]
  },
  {
   "cell_type": "code",
   "execution_count": 9,
   "id": "d92db272-97db-46d3-8134-40f00eff9b82",
   "metadata": {},
   "outputs": [
    {
     "name": "stdout",
     "output_type": "stream",
     "text": [
      "  Unnamed: 0  Student_height  Student_weight\n",
      "0         s1           176.2            85.1\n",
      "1         s2           158.4            90.2\n",
      "2         s3           167.6            76.8\n",
      "3         s4           156.2            80.4\n",
      "4         s5           161.4            78.9\n"
     ]
    }
   ],
   "source": [
    "# Task 2\n",
    "df_A2 = pd.read_csv(\"classA.csv\")\n",
    "print(df_A2)"
   ]
  },
  {
   "cell_type": "code",
   "execution_count": 10,
   "id": "1bc2eac0-ce7c-473b-8868-36e3c4539ef4",
   "metadata": {},
   "outputs": [
    {
     "name": "stdout",
     "output_type": "stream",
     "text": [
      "    Student_height  Student_weight\n",
      "s1           176.2            85.1\n",
      "s2           158.4            90.2\n",
      "s3           167.6            76.8\n",
      "s4           156.2            80.4\n",
      "s5           161.4            78.9\n"
     ]
    }
   ],
   "source": [
    "# Task 3\n",
    "df_A3 = pd.read_csv(\"classA.csv\", index_col=0)\n",
    "print(df_A3)"
   ]
  },
  {
   "cell_type": "code",
   "execution_count": 19,
   "id": "722ac96d-fbf9-4f97-9021-e24438fded84",
   "metadata": {},
   "outputs": [
    {
     "name": "stdout",
     "output_type": "stream",
     "text": [
      "    Student_height  Student_weight\n",
      "s1      126.255863       81.170626\n",
      "s2      178.567010       77.654156\n",
      "s3      198.825895       62.159480\n",
      "s4      163.689099       72.726050\n",
      "s5      194.533020       78.060017\n"
     ]
    }
   ],
   "source": [
    "# Task 4\n",
    "from numpy import random\n",
    "random.seed(100)\n",
    "data_B = {\"Student_height\" : random.normal(loc=170, scale=25, size=(5,)),\n",
    "          \"Student_weight\" : random.normal(loc=75, scale=12, size=(5,))}\n",
    "df_B = pd.DataFrame(data_B, index=[\"s1\", \"s2\", \"s3\", \"s4\", \"s5\"])\n",
    "# print(df_B)\n",
    "df_B.to_csv(\"classB.csv\", index=False)"
   ]
  },
  {
   "cell_type": "code",
   "execution_count": 21,
   "id": "4efcb557-a5cd-47c8-bf39-61f991a444b4",
   "metadata": {},
   "outputs": [
    {
     "name": "stdout",
     "output_type": "stream",
     "text": [
      " Volume in drive C is Windows\n",
      " Volume Serial Number is 02AF-2E67\n",
      "\n",
      " Directory of C:\\Users\\abdur\\OneDrive\\Desktop\\Git\\Pandas_Tutorial\n",
      "\n",
      "\n",
      " Directory of C:\\Users\\abdur\\OneDrive\\Desktop\\Git\\Pandas_Tutorial\n",
      "\n",
      "07-01-2024  14:07               219 classB.csv\n",
      "               1 File(s)            219 bytes\n",
      "               0 Dir(s)  35,656,794,112 bytes free\n"
     ]
    }
   ],
   "source": [
    "ls -1 \"classB.csv\""
   ]
  },
  {
   "cell_type": "code",
   "execution_count": 25,
   "id": "f75ef3f4-9501-4cfb-b8ab-538bce7ee96d",
   "metadata": {},
   "outputs": [
    {
     "name": "stderr",
     "output_type": "stream",
     "text": [
      "'cat' is not recognized as an internal or external command,\n",
      "operable program or batch file.\n"
     ]
    }
   ],
   "source": [
    "# !cat classB.csv"
   ]
  },
  {
   "cell_type": "code",
   "execution_count": 26,
   "id": "e7ccd231-15bc-412e-8dc3-7716d123ad73",
   "metadata": {},
   "outputs": [
    {
     "name": "stdout",
     "output_type": "stream",
     "text": [
      "   Student_height  Student_weight\n",
      "0      126.255863       81.170626\n",
      "1      178.567010       77.654156\n",
      "2      198.825895       62.159480\n",
      "3      163.689099       72.726050\n",
      "4      194.533020       78.060017\n"
     ]
    }
   ],
   "source": [
    "# Task 5\n",
    "df_B2 = pd.read_csv(\"classB.csv\")\n",
    "print(df_B2)"
   ]
  },
  {
   "cell_type": "code",
   "execution_count": 27,
   "id": "f6dc08c0-bf7d-4d61-a6c6-a93c35e4ef90",
   "metadata": {},
   "outputs": [
    {
     "name": "stdout",
     "output_type": "stream",
     "text": [
      "                    0                  1\n",
      "0      Student_height     Student_weight\n",
      "1  126.25586317363256  81.17062609673259\n",
      "2  178.56701008318754  77.65415603065681\n",
      "3   198.8258950640911  62.15948003318048\n",
      "4  163.68909908696526   72.7260500301219\n",
      "5  194.53301967378079  78.06001733128058\n"
     ]
    }
   ],
   "source": [
    "# Task 6\n",
    "df_B3 = pd.read_csv(\"classB.csv\", header=None)\n",
    "print(df_B3)"
   ]
  },
  {
   "cell_type": "code",
   "execution_count": 28,
   "id": "46aa0aea-b12e-4bde-8a1c-de1752986ba0",
   "metadata": {},
   "outputs": [
    {
     "name": "stdout",
     "output_type": "stream",
     "text": [
      "            0          1\n",
      "0  178.567010  77.654156\n",
      "1  198.825895  62.159480\n",
      "2  163.689099  72.726050\n",
      "3  194.533020  78.060017\n"
     ]
    }
   ],
   "source": [
    "# Task 7\n",
    "df_B4 = pd.read_csv(\"classB.csv\", header=None, skiprows=2)\n",
    "print(df_B4)"
   ]
  },
  {
   "cell_type": "code",
   "execution_count": null,
   "id": "ee7aa387-2e09-4c52-a311-2cf19c311361",
   "metadata": {},
   "outputs": [],
   "source": []
  },
  {
   "cell_type": "code",
   "execution_count": null,
   "id": "50f5b340-3b37-4ece-adf7-726400128ebb",
   "metadata": {},
   "outputs": [],
   "source": []
  },
  {
   "cell_type": "code",
   "execution_count": null,
   "id": "2b82d9a2-7416-4d29-9971-b94f29970a58",
   "metadata": {},
   "outputs": [],
   "source": []
  },
  {
   "cell_type": "code",
   "execution_count": 35,
   "id": "b40f0d5c-9ae3-4bb6-98b1-95dba3b20492",
   "metadata": {},
   "outputs": [
    {
     "data": {
      "text/plain": [
       "r1    12\n",
       "r2    67\n",
       "r3    43\n",
       "Name: B, dtype: int64"
      ]
     },
     "execution_count": 35,
     "metadata": {},
     "output_type": "execute_result"
    }
   ],
   "source": [
    "df = pd.DataFrame({'A':[34, 78, 54], 'B':[12, 67, 43]}, index=['r1', 'r2', 'r3'])\n",
    "df.B"
   ]
  },
  {
   "cell_type": "code",
   "execution_count": 36,
   "id": "124316e8-2ad5-4373-8f3f-3ec646259b28",
   "metadata": {},
   "outputs": [
    {
     "data": {
      "text/html": [
       "<div>\n",
       "<style scoped>\n",
       "    .dataframe tbody tr th:only-of-type {\n",
       "        vertical-align: middle;\n",
       "    }\n",
       "\n",
       "    .dataframe tbody tr th {\n",
       "        vertical-align: top;\n",
       "    }\n",
       "\n",
       "    .dataframe thead th {\n",
       "        text-align: right;\n",
       "    }\n",
       "</style>\n",
       "<table border=\"1\" class=\"dataframe\">\n",
       "  <thead>\n",
       "    <tr style=\"text-align: right;\">\n",
       "      <th></th>\n",
       "      <th>A</th>\n",
       "      <th>B</th>\n",
       "    </tr>\n",
       "  </thead>\n",
       "  <tbody>\n",
       "    <tr>\n",
       "      <th>r1</th>\n",
       "      <td>34</td>\n",
       "      <td>12</td>\n",
       "    </tr>\n",
       "    <tr>\n",
       "      <th>r2</th>\n",
       "      <td>78</td>\n",
       "      <td>67</td>\n",
       "    </tr>\n",
       "    <tr>\n",
       "      <th>r3</th>\n",
       "      <td>54</td>\n",
       "      <td>43</td>\n",
       "    </tr>\n",
       "  </tbody>\n",
       "</table>\n",
       "</div>"
      ],
      "text/plain": [
       "     A   B\n",
       "r1  34  12\n",
       "r2  78  67\n",
       "r3  54  43"
      ]
     },
     "execution_count": 36,
     "metadata": {},
     "output_type": "execute_result"
    }
   ],
   "source": [
    "df"
   ]
  },
  {
   "cell_type": "code",
   "execution_count": 37,
   "id": "bed6b31e-fd3f-4a6d-b6a9-2e6526becf4f",
   "metadata": {},
   "outputs": [
    {
     "data": {
      "text/html": [
       "<div>\n",
       "<style scoped>\n",
       "    .dataframe tbody tr th:only-of-type {\n",
       "        vertical-align: middle;\n",
       "    }\n",
       "\n",
       "    .dataframe tbody tr th {\n",
       "        vertical-align: top;\n",
       "    }\n",
       "\n",
       "    .dataframe thead th {\n",
       "        text-align: right;\n",
       "    }\n",
       "</style>\n",
       "<table border=\"1\" class=\"dataframe\">\n",
       "  <thead>\n",
       "    <tr style=\"text-align: right;\">\n",
       "      <th></th>\n",
       "      <th>A</th>\n",
       "    </tr>\n",
       "  </thead>\n",
       "  <tbody>\n",
       "    <tr>\n",
       "      <th>r1</th>\n",
       "      <td>34</td>\n",
       "    </tr>\n",
       "    <tr>\n",
       "      <th>r2</th>\n",
       "      <td>78</td>\n",
       "    </tr>\n",
       "    <tr>\n",
       "      <th>r3</th>\n",
       "      <td>54</td>\n",
       "    </tr>\n",
       "  </tbody>\n",
       "</table>\n",
       "</div>"
      ],
      "text/plain": [
       "     A\n",
       "r1  34\n",
       "r2  78\n",
       "r3  54"
      ]
     },
     "execution_count": 37,
     "metadata": {},
     "output_type": "execute_result"
    }
   ],
   "source": [
    "del df[\"B\"]\n",
    "df"
   ]
  },
  {
   "cell_type": "code",
   "execution_count": null,
   "id": "23b19812-16e8-4baf-a670-d9ca82db7b12",
   "metadata": {},
   "outputs": [],
   "source": []
  },
  {
   "cell_type": "code",
   "execution_count": 32,
   "id": "94861446-c968-44cc-9980-6f5db3f42cf0",
   "metadata": {},
   "outputs": [],
   "source": [
    "df = pd.DataFrame({'A':[34, 78, 54], 'B':[12, 67, 43]}, index=['r1', 'r2', 'r3'])"
   ]
  },
  {
   "cell_type": "code",
   "execution_count": 33,
   "id": "829594c2-ddcd-4784-9e78-4c78bc1753b0",
   "metadata": {},
   "outputs": [
    {
     "data": {
      "text/html": [
       "<div>\n",
       "<style scoped>\n",
       "    .dataframe tbody tr th:only-of-type {\n",
       "        vertical-align: middle;\n",
       "    }\n",
       "\n",
       "    .dataframe tbody tr th {\n",
       "        vertical-align: top;\n",
       "    }\n",
       "\n",
       "    .dataframe thead th {\n",
       "        text-align: right;\n",
       "    }\n",
       "</style>\n",
       "<table border=\"1\" class=\"dataframe\">\n",
       "  <thead>\n",
       "    <tr style=\"text-align: right;\">\n",
       "      <th></th>\n",
       "      <th>A</th>\n",
       "      <th>B</th>\n",
       "    </tr>\n",
       "  </thead>\n",
       "  <tbody>\n",
       "    <tr>\n",
       "      <th>r1</th>\n",
       "      <td>34</td>\n",
       "      <td>12</td>\n",
       "    </tr>\n",
       "    <tr>\n",
       "      <th>r2</th>\n",
       "      <td>78</td>\n",
       "      <td>67</td>\n",
       "    </tr>\n",
       "    <tr>\n",
       "      <th>r3</th>\n",
       "      <td>54</td>\n",
       "      <td>43</td>\n",
       "    </tr>\n",
       "    <tr>\n",
       "      <th>r4</th>\n",
       "      <td>67</td>\n",
       "      <td>78</td>\n",
       "    </tr>\n",
       "  </tbody>\n",
       "</table>\n",
       "</div>"
      ],
      "text/plain": [
       "     A   B\n",
       "r1  34  12\n",
       "r2  78  67\n",
       "r3  54  43\n",
       "r4  67  78"
      ]
     },
     "execution_count": 33,
     "metadata": {},
     "output_type": "execute_result"
    }
   ],
   "source": [
    "df.loc['r4'] = [67, 78]\n",
    "df"
   ]
  },
  {
   "cell_type": "markdown",
   "id": "3dad775d-4a12-4690-9a43-ceb1c6980d86",
   "metadata": {},
   "source": [
    "## Welcome to Python Pandas | 2 | Accessing Pandas Data Structures\n",
    "[Test - Hackerrank](https://www.hackerrank.com/test/cihcjqrto14/questions)"
   ]
  },
  {
   "cell_type": "code",
   "execution_count": 11,
   "id": "cfb438ab-eafb-4f02-bdcb-b6aedf25a043",
   "metadata": {},
   "outputs": [
    {
     "name": "stdout",
     "output_type": "stream",
     "text": [
      "158.4\n"
     ]
    }
   ],
   "source": [
    "# task 1\n",
    "import pandas as pd \n",
    "heights_A = pd.Series([176.2, 158.4, 167.6, 156.2, 161.4], index=[\"s1\", \"s2\", \"s3\", \"s4\", \"s5\"])\n",
    "# print(heights_A)\n",
    "print(heights_A[\"s2\"])"
   ]
  },
  {
   "cell_type": "code",
   "execution_count": 12,
   "id": "d53e974c-b06b-47c4-8254-20557599159e",
   "metadata": {},
   "outputs": [
    {
     "name": "stdout",
     "output_type": "stream",
     "text": [
      "s2    158.4\n",
      "s3    167.6\n",
      "s4    156.2\n",
      "dtype: float64\n"
     ]
    }
   ],
   "source": [
    "# task 2\n",
    "print(heights_A[\"s2\":\"s4\"])"
   ]
  },
  {
   "cell_type": "code",
   "execution_count": 16,
   "id": "35b88db0-b48c-4930-8143-85dbd3b387e6",
   "metadata": {},
   "outputs": [
    {
     "name": "stdout",
     "output_type": "stream",
     "text": [
      "<class 'pandas.core.series.Series'>\n"
     ]
    }
   ],
   "source": [
    "# task 3\n",
    "weights_A = pd.Series([85.1, 90.2, 76.8, 80.4, 78.9], index=[\"s1\", \"s2\", \"s3\", \"s4\", \"s5\"])\n",
    "data = {\"Student_height\" : heights_A, \"Student_weight\" : weights_A}\n",
    "df_A = pd.DataFrame(data)\n",
    "# print(df_A)\n",
    "height = df_A[\"Student_height\"]\n",
    "print(type(height))"
   ]
  },
  {
   "cell_type": "code",
   "execution_count": 19,
   "id": "0441907f-c317-471c-af6f-ded6496f2c5e",
   "metadata": {},
   "outputs": [
    {
     "name": "stdout",
     "output_type": "stream",
     "text": [
      "    Student_height  Student_weight\n",
      "s1           176.2            85.1\n",
      "s2           158.4            90.2\n"
     ]
    }
   ],
   "source": [
    "# task 4\n",
    "df_s1s2 = df_A.loc[[\"s1\", \"s2\"]]\n",
    "print(df_s1s2)"
   ]
  },
  {
   "cell_type": "code",
   "execution_count": 20,
   "id": "d334b323-09d5-4a52-b168-51ac06911902",
   "metadata": {},
   "outputs": [
    {
     "name": "stdout",
     "output_type": "stream",
     "text": [
      "    Student_height  Student_weight\n",
      "s2           158.4            90.2\n",
      "s5           161.4            78.9\n",
      "s1           176.2            85.1\n"
     ]
    }
   ],
   "source": [
    "# task 5\n",
    "df_s2s5s1 = df_A.loc[[\"s2\", \"s5\", \"s1\"]]\n",
    "print(df_s2s5s1)"
   ]
  },
  {
   "cell_type": "code",
   "execution_count": 30,
   "id": "72d5d36f-a7d9-479e-a5d9-67aa13d9d20d",
   "metadata": {},
   "outputs": [
    {
     "name": "stdout",
     "output_type": "stream",
     "text": [
      "    Student_height  Student_weight\n",
      "s1           176.2            85.1\n",
      "s4           156.2            80.4\n"
     ]
    }
   ],
   "source": [
    "# task 6\n",
    "df_s1s4 = df_A.loc[[i for i in df_A.index if i.endswith((\"1\", \"4\"))]]\n",
    "print(df_s1s4)"
   ]
  },
  {
   "cell_type": "code",
   "execution_count": 27,
   "id": "6c15159c-3d37-4cf9-a752-35a39314e5fd",
   "metadata": {},
   "outputs": [
    {
     "name": "stdout",
     "output_type": "stream",
     "text": [
      "['s1', 's2', 's3', 's4', 's5']\n"
     ]
    },
    {
     "data": {
      "text/plain": [
       "['s1', 's4']"
      ]
     },
     "execution_count": 27,
     "metadata": {},
     "output_type": "execute_result"
    }
   ],
   "source": [
    "index=[\"s1\", \"s2\", \"s3\", \"s4\", \"s5\"]\n",
    "print(index)\n",
    "[i for i in index if i.endswith((\"1\", \"4\"))]"
   ]
  },
  {
   "cell_type": "code",
   "execution_count": 29,
   "id": "c3984f7a-bf76-4eca-9d3f-e3cfb099ce8d",
   "metadata": {},
   "outputs": [
    {
     "data": {
      "text/plain": [
       "Index(['s1', 's2', 's3', 's4', 's5'], dtype='object')"
      ]
     },
     "execution_count": 29,
     "metadata": {},
     "output_type": "execute_result"
    }
   ],
   "source": [
    "df_A.index"
   ]
  },
  {
   "cell_type": "markdown",
   "id": "6b3ee055-f70f-4311-9992-fd7eabf76f2c",
   "metadata": {},
   "source": [
    "## Accessing elements from Series"
   ]
  },
  {
   "cell_type": "code",
   "execution_count": 2,
   "id": "3d8acd41-742e-4373-a86a-36d5b738f948",
   "metadata": {},
   "outputs": [
    {
     "name": "stdout",
     "output_type": "stream",
     "text": [
      "i     India\n",
      "r    russia\n",
      "c     China\n",
      "dtype: object\n"
     ]
    }
   ],
   "source": [
    "import pandas as pd\n",
    "x = pd.Series([\"India\", \"russia\", \"China\"], index=[\"i\", \"r\", \"c\"])\n",
    "print(x)"
   ]
  },
  {
   "cell_type": "code",
   "execution_count": 3,
   "id": "b2565752-adb9-4321-8ada-167276cdff70",
   "metadata": {},
   "outputs": [
    {
     "data": {
      "text/plain": [
       "'India'"
      ]
     },
     "execution_count": 3,
     "metadata": {},
     "output_type": "execute_result"
    }
   ],
   "source": [
    "x[0]"
   ]
  },
  {
   "cell_type": "code",
   "execution_count": 4,
   "id": "4b5782c9-cb2a-429b-ab93-e9d5f56cb783",
   "metadata": {},
   "outputs": [
    {
     "data": {
      "text/plain": [
       "'China'"
      ]
     },
     "execution_count": 4,
     "metadata": {},
     "output_type": "execute_result"
    }
   ],
   "source": [
    "x[2]"
   ]
  },
  {
   "cell_type": "code",
   "execution_count": 5,
   "id": "943ba541-7c03-43a5-aa5e-a29961693c2f",
   "metadata": {},
   "outputs": [
    {
     "data": {
      "text/plain": [
       "'russia'"
      ]
     },
     "execution_count": 5,
     "metadata": {},
     "output_type": "execute_result"
    }
   ],
   "source": [
    "x[\"r\"]"
   ]
  },
  {
   "cell_type": "code",
   "execution_count": 6,
   "id": "4972067e-9e46-4857-9f79-cb4577f3a37f",
   "metadata": {},
   "outputs": [
    {
     "data": {
      "text/plain": [
       "'China'"
      ]
     },
     "execution_count": 6,
     "metadata": {},
     "output_type": "execute_result"
    }
   ],
   "source": [
    "x.iloc[2]"
   ]
  },
  {
   "cell_type": "code",
   "execution_count": 7,
   "id": "9cc600c5-8792-451b-b7da-920afb980803",
   "metadata": {},
   "outputs": [
    {
     "data": {
      "text/plain": [
       "'India'"
      ]
     },
     "execution_count": 7,
     "metadata": {},
     "output_type": "execute_result"
    }
   ],
   "source": [
    "x.loc[\"i\"]"
   ]
  },
  {
   "cell_type": "code",
   "execution_count": 8,
   "id": "2348f4dd-7386-4bf7-808d-5c19a6910010",
   "metadata": {},
   "outputs": [
    {
     "data": {
      "text/plain": [
       "'russia'"
      ]
     },
     "execution_count": 8,
     "metadata": {},
     "output_type": "execute_result"
    }
   ],
   "source": [
    "x.get(1)"
   ]
  },
  {
   "cell_type": "code",
   "execution_count": 9,
   "id": "34b149ae-336d-4263-b2b9-47e7bcaeab92",
   "metadata": {},
   "outputs": [
    {
     "data": {
      "text/plain": [
       "'India'"
      ]
     },
     "execution_count": 9,
     "metadata": {},
     "output_type": "execute_result"
    }
   ],
   "source": [
    "x.get(\"i\")"
   ]
  },
  {
   "cell_type": "markdown",
   "id": "3342c18a-f1ce-46a0-bddf-0a1370e584b9",
   "metadata": {},
   "source": [
    "## Fresco - Pandas - Hackerrank"
   ]
  },
  {
   "cell_type": "code",
   "execution_count": 3,
   "id": "7af38b09-d3dc-42da-8ef7-8c4cdf21d435",
   "metadata": {},
   "outputs": [
    {
     "name": "stdout",
     "output_type": "stream",
     "text": [
      "s1    176.2\n",
      "s2    158.4\n",
      "s3    167.6\n",
      "s4    156.2\n",
      "s5    161.4\n",
      "dtype: float64\n",
      "(5,)\n"
     ]
    }
   ],
   "source": [
    "# task 1\n",
    "import pandas as pd \n",
    "heights_A = pd.Series([176.2, 158.4, 167.6, 156.2, 161.4], index=[\"s1\", \"s2\", \"s3\", \"s4\", \"s5\"])\n",
    "print(heights_A)\n",
    "print(heights_A.shape)"
   ]
  },
  {
   "cell_type": "code",
   "execution_count": 4,
   "id": "795e28ea-7aaa-464c-bc08-cacd0dbfef21",
   "metadata": {},
   "outputs": [
    {
     "name": "stdout",
     "output_type": "stream",
     "text": [
      "s1    85.1\n",
      "s2    90.2\n",
      "s3    76.8\n",
      "s4    80.4\n",
      "s5    78.9\n",
      "dtype: float64\n",
      "float64\n"
     ]
    }
   ],
   "source": [
    "# task 2\n",
    "weights_A = pd.Series([85.1, 90.2, 76.8, 80.4, 78.9], index=[\"s1\", \"s2\", \"s3\", \"s4\", \"s5\"])\n",
    "print(weights_A)\n",
    "print(weights_A.dtype)"
   ]
  },
  {
   "cell_type": "markdown",
   "id": "6d0ef622-90b6-4641-9afe-c03db85788e3",
   "metadata": {},
   "source": [
    "**Q**. add two or more series to make dataframe, use concatenate or Merge"
   ]
  },
  {
   "cell_type": "code",
   "execution_count": 13,
   "id": "b30bc74d-702a-4797-a3b2-bee105dad3a6",
   "metadata": {},
   "outputs": [
    {
     "name": "stdout",
     "output_type": "stream",
     "text": [
      "    Student_height  Student_weight\n",
      "s1           176.2            85.1\n",
      "s2           158.4            90.2\n",
      "s3           167.6            76.8\n",
      "s4           156.2            80.4\n",
      "s5           161.4            78.9\n",
      "(5, 2)\n"
     ]
    }
   ],
   "source": [
    "# task 3\n",
    "data = {\"Student_height\" : heights_A, \"Student_weight\" : weights_A}\n",
    "df_A = pd.DataFrame(data)\n",
    "print(df_A)\n",
    "print(df_A.shape)"
   ]
  },
  {
   "cell_type": "code",
   "execution_count": 28,
   "id": "4b9ea5a1-3ac3-40d9-942a-e93a895bcff0",
   "metadata": {},
   "outputs": [
    {
     "name": "stdout",
     "output_type": "stream",
     "text": [
      "[126.25586317 178.56701008 198.82589506 163.68909909 194.53301967]\n",
      "s1    126.255863\n",
      "s2    178.567010\n",
      "s3    198.825895\n",
      "s4    163.689099\n",
      "s5    194.533020\n",
      "dtype: float64\n",
      "[81.1706261  77.65415603 62.15948003 72.72605003 78.06001733]\n",
      "s1    81.170626\n",
      "s2    77.654156\n",
      "s3    62.159480\n",
      "s4    72.726050\n",
      "s5    78.060017\n",
      "dtype: float64\n",
      "172.37417741633146\n"
     ]
    }
   ],
   "source": [
    "# task 4\n",
    "from numpy import random\n",
    "random.seed(100)\n",
    "x = random.normal(loc=170, scale=25, size=(5,))\n",
    "print(x)\n",
    "heights_B = pd.Series(x, index=[\"s1\", \"s2\", \"s3\", \"s4\", \"s5\"])\n",
    "print(heights_B)\n",
    "\n",
    "y = random.normal(loc=75, scale=12, size=(5,))\n",
    "print(y)\n",
    "weights_B = pd.Series(y, index=[\"s1\", \"s2\", \"s3\", \"s4\", \"s5\"])\n",
    "print(weights_B)\n",
    "\n",
    "print(heights_B.mean())"
   ]
  },
  {
   "cell_type": "code",
   "execution_count": 31,
   "id": "721b66cd-7854-4e1b-bf47-8edfc99fc636",
   "metadata": {},
   "outputs": [
    {
     "name": "stdout",
     "output_type": "stream",
     "text": [
      "    Student_height  Student_weight\n",
      "s1      126.255863       81.170626\n",
      "s2      178.567010       77.654156\n",
      "s3      198.825895       62.159480\n",
      "s4      163.689099       72.726050\n",
      "s5      194.533020       78.060017\n",
      "Index(['Student_height', 'Student_weight'], dtype='object')\n"
     ]
    }
   ],
   "source": [
    "# task 5\n",
    "data = {\"Student_height\" : heights_B, \"Student_weight\" : weights_B}\n",
    "df_B = pd.DataFrame(data)\n",
    "print(df_B)\n",
    "print(df_A.columns)"
   ]
  },
  {
   "cell_type": "code",
   "execution_count": null,
   "id": "52f1e4e3-47fb-45fd-a35c-87c354c2dfba",
   "metadata": {},
   "outputs": [],
   "source": []
  },
  {
   "cell_type": "code",
   "execution_count": null,
   "id": "632b5768-0e09-4efc-84ef-24a950cf78ab",
   "metadata": {},
   "outputs": [],
   "source": []
  },
  {
   "cell_type": "code",
   "execution_count": null,
   "id": "fe6dcf78-b8c9-46a4-95aa-8b7bc1f711a9",
   "metadata": {},
   "outputs": [],
   "source": []
  },
  {
   "cell_type": "code",
   "execution_count": null,
   "id": "eb54aa0f-87df-484f-a08a-bd4a42b35429",
   "metadata": {},
   "outputs": [],
   "source": []
  },
  {
   "cell_type": "code",
   "execution_count": 19,
   "id": "1b355f4f-6b8f-498a-9ff6-1ce7958b2c16",
   "metadata": {},
   "outputs": [
    {
     "name": "stdout",
     "output_type": "stream",
     "text": [
      "('MT19937', array([       100,  854698869, 2051883563,  537498773, 2958973901,\n",
      "       3942973360, 3887377573, 3677811589,  363514342, 2142748103,\n",
      "       1886836008,  387189304, 3152543780, 1403413771,  134100736,\n",
      "       3015357199,  869636401, 2660739430, 2369280134, 4197814311,\n",
      "       2185306696, 1729241415, 3470759604, 2564777290,   38698368,\n",
      "       1486947225, 1536869138, 1341727130,  797128003, 2937708172,\n",
      "       3945843748, 4036127362, 2588544517, 3605678052, 2520382789,\n",
      "        777841702, 2182316322, 3383497157, 2865756484,  157142725,\n",
      "       2836201697, 1909445816, 4242861607, 4240390239, 1730050168,\n",
      "       1422739690, 1936754661, 2874843427, 1860385589, 3904974773,\n",
      "       1287272704, 3909158552,  204312155, 2007293212, 3056255399,\n",
      "       2818749264,  977641874, 1139663059, 3622311188, 2843386190,\n",
      "       4140257080,  346412420, 1800200530, 2804895998, 3471167404,\n",
      "        513316684, 3997130046,  814771796, 3897719656, 1350825084,\n",
      "       3444660887, 1956507819, 3569413466,  949044582, 4248696712,\n",
      "       2075725090, 4160678427, 3380687813, 2534957932, 3386316981,\n",
      "        856696350, 2090276903, 3029523792, 2074096557, 2072997680,\n",
      "        946804650,  354701416, 3644023135, 2850268580, 1778397399,\n",
      "       2316290760, 2940673037, 1299913031, 2868997883, 1354959259,\n",
      "       2018260001,  718647552,  419943777, 3538884775,  151026967,\n",
      "       4022577527, 3758944041, 2470303224, 2159949321, 3024369087,\n",
      "       3554040058, 3288161191, 2591812639, 4111117533, 3318415875,\n",
      "       3140078190, 1304733963, 3293776738,  562128566,  251587648,\n",
      "       3435230643, 3357449956,  594497688, 3778290798, 3154883704,\n",
      "       3683221146,  875418582,  793516520, 4164641027, 1565934972,\n",
      "       2695122894, 2384177146,  362085719, 3770450643, 3759205521,\n",
      "       2235922460, 2994893401, 3240546667, 2486781581, 1665424881,\n",
      "       2446229559, 3867669105, 1837083011, 4288836308, 2725076574,\n",
      "         19494616,   98401221, 1442923079, 4074806317, 3010739382,\n",
      "       2588166037,  274796069, 1709138476, 1743180117, 2908916409,\n",
      "       3543912285, 2888048301, 3916743331, 1771596217, 3183291954,\n",
      "       2628446603, 1965520041, 1721167589, 4154475666, 2195957460,\n",
      "       1341348110, 2299800204, 4053584040, 3672878874, 3579803265,\n",
      "       1520653295, 3722214284,  990201618, 2778442946, 1595795561,\n",
      "       3271842226, 1687035008, 3973662865, 1301136455, 1558308428,\n",
      "       1366954512,  592132709, 1672550282, 1665445257,  162414427,\n",
      "        824423067, 3286723292,  580354481, 4060406924, 2921837603,\n",
      "       3455498942,  594661963, 1233066834, 3356111739, 1775863573,\n",
      "       1302855586, 1284183822, 2543853739, 3024508014, 2715884382,\n",
      "       3841460239, 1518180736, 2302319018, 2482079758, 1751980419,\n",
      "        541041426, 3571316963,  333648170, 2364227677, 1423719751,\n",
      "       2358813547, 3951733307, 1783963879, 1887113614,  198997308,\n",
      "        760962430, 2156286345, 1970180011,  623290599, 1794458361,\n",
      "       3898746031, 3305931956, 1173834764, 2191455995, 1739698712,\n",
      "       1813620153, 2278939253,  915005649, 2674691156,  457663694,\n",
      "       2713650215, 3264704635, 2218235963,  536121441, 1533534250,\n",
      "       3961484509, 3624266365, 4131713694, 3981753818, 3103197319,\n",
      "       2225637988, 1499017514, 2007853540, 2254001479, 1086558760,\n",
      "       2172623901, 3133026348,  773038360,  916219755,  922358059,\n",
      "        537250284, 3503027986, 1965527980, 1818220857, 2643962897,\n",
      "        275910521, 4288076984, 2143431107, 1279347847, 2808145884,\n",
      "       3831712149, 2292666158,  764725597, 1493252019, 1646738493,\n",
      "       2925191344, 2834819391, 1917561623, 2349024949,  555996731,\n",
      "          6691152, 1023659418, 2998765773,   78037431, 2474007872,\n",
      "       3932757528, 4082259126, 3150137721, 2092683672,    7574383,\n",
      "       3817378526,  461715269, 3305487438, 1864597623,  603641253,\n",
      "       3788412977, 3880963795, 4228442410, 3765038920, 1776782515,\n",
      "       2743321943, 1223317671, 2725236893, 3038471899, 2043196862,\n",
      "         28044413, 3721278324, 2015755799, 4136699347, 3422788662,\n",
      "        225967888, 1095185016, 1214819302, 3164303949,  229204310,\n",
      "       4198788634, 3935949322, 1784000443,  351199121, 1624886885,\n",
      "       2585653925, 3946650645, 2411584481,  399064259,   20862244,\n",
      "       1562631274,  453524078,  310766750,  449374607, 3442126245,\n",
      "       2421053881,  889944835, 3010536556, 3206823588, 2371718845,\n",
      "       1384548763, 1240315139,  733248780, 1349829375, 3076316538,\n",
      "       3094387101, 1308341249, 1671562567, 2963835878, 3902289469,\n",
      "       3704001984, 3167973946, 1729366372, 1102168870, 3600998065,\n",
      "        105717641, 1795998557,  941183133,  510383171, 3338115778,\n",
      "       2831702137,  499236060, 1703231522, 3789163046, 2910244593,\n",
      "        826585656, 3003271538,  457435787,  672984371, 1321132412,\n",
      "        509992111, 1578285418, 1485466519,  994687375, 1061993933,\n",
      "       3077871684, 2020051714, 4216550548, 3044200441, 2608226926,\n",
      "       4048855556, 3813322028,  862813173, 2704999956, 2770677274,\n",
      "       1878919397, 2419558242, 3506096719, 1095269740, 4138979954,\n",
      "       4255613191, 3996978183, 2912936712, 2111499879, 1572775348,\n",
      "       3872931552, 1227705351, 3099080151, 3394190211, 3633969915,\n",
      "       1490468180,   22950150, 3515846364, 2100409978, 3768701703,\n",
      "       2934007317,  489723797, 2254277708, 3508542026,  867856722,\n",
      "       3765541088, 1238879766, 4128219035, 3988410497, 2334480084,\n",
      "       2299382265, 3714385043, 1211883101, 1847719898, 3423075830,\n",
      "        331501625,  103229710, 1775088152, 1025877616,  318544836,\n",
      "       2673957353, 2482257485,  484302274,  126046498, 3441964547,\n",
      "       4022554522, 3604367864, 1509917859,  943196039, 1389574369,\n",
      "       3303363071, 4114429452, 1367170188, 1087896131, 3656454061,\n",
      "       3544272714, 1127307890, 3909434373, 3898205701, 2579167238,\n",
      "        765067069,  503601595, 2212068210,  132949212,  379242617,\n",
      "       1202248299, 1399252865, 1308415792, 2722177286, 1970875462,\n",
      "       1534163126, 1314885863,  243876467, 2245772309, 2084941258,\n",
      "       3054253519, 1345777818,   78438881, 1983744128, 3151685025,\n",
      "       1303762444, 1319463391,  435983445, 1448805449, 1160460841,\n",
      "       3812973450,  353923024,  891973332,  651767657,  636348211,\n",
      "        503022566,  286990726, 3075404199, 3371803875, 3856264747,\n",
      "       2995150740, 1027931643, 3993012437,  894075965, 1087754977,\n",
      "       1180046385, 2652088514, 2152748435,  544431369, 3784083298,\n",
      "       3498791963, 1134626639, 4136804766, 1738656202, 2690597361,\n",
      "       2441417146, 3154343796,  344344939,  473054229, 2190209832,\n",
      "       3296619378, 3380010614, 2317705995,   67036528, 2187949844,\n",
      "       1844495251,  698633344, 1916973159, 2675978278,  139609117,\n",
      "       1739810395, 2953022829,  169883063, 3883213344, 3010475197,\n",
      "       3703048266, 2533971901, 2430457676, 2866852280, 4258835029,\n",
      "        167590882, 1898091551, 3636101068,  581121442, 3515210978,\n",
      "       1126928318, 1381363541, 1950835231, 1786627538, 3208771900,\n",
      "       3155920244, 1602342797, 3810316348, 1267261916, 1995137843,\n",
      "       2974934717, 2902803039,  539096502, 1507743956, 3155561232,\n",
      "       3860660770, 1249673742, 3877787893, 3370303769, 3666025294,\n",
      "       2591095918, 3701302442, 1368795580, 1824497313, 1239234353,\n",
      "       1226799106, 1018754626, 2224061470, 3559912737, 1829300864,\n",
      "       2676658172,  816561998, 1078278623, 2757338288, 1767849557,\n",
      "       2939850048,  746589991, 4105362305,  446115433, 4133126797,\n",
      "        460685863, 3138665093,  805197926, 2138142818,  266763316,\n",
      "       4090681002,  833496020,  900503756, 3362879141,  332179368,\n",
      "       3406761843, 3628337500,  292850600, 4082107254, 1151204440,\n",
      "        282014285, 1606750098, 2937705009,  705837906, 2452507534,\n",
      "       2475015281, 1891755669, 4277218971,  222215216,  835055913,\n",
      "       1967528039, 2055223417,  504791444, 3846526369, 1050443048,\n",
      "       3201288967,  616810553, 3438510526, 1957385939, 2966267165,\n",
      "       1717091967, 1013356539, 3349957453, 4066932237, 2898662350,\n",
      "       3310484933,  848435048, 2785142355, 4214765889, 2627791703,\n",
      "        885020631, 3653613858, 3069949269, 2394627236, 1118905808,\n",
      "       1373095624, 4278321313,  177140799, 3973387825,  743474705,\n",
      "       1778057229,  862024469, 1838917283, 1896051269, 1046379312,\n",
      "       3380825165, 3267681060, 2734905282, 2156355872,  676497099,\n",
      "       1715393401, 1581033659, 3109035462, 2095424697, 1288206078,\n",
      "       1740532738,  235092631, 2411851516,  828062368, 1706935179,\n",
      "       1112080862, 1508316776,  201919195, 1180532182], dtype=uint32), 624, 0, 0.0)\n"
     ]
    }
   ],
   "source": [
    "random.seed(100)\n",
    "print(random.get_state())"
   ]
  },
  {
   "cell_type": "code",
   "execution_count": null,
   "id": "65dd0881-74e0-47f3-bd77-12c33782413b",
   "metadata": {},
   "outputs": [],
   "source": []
  },
  {
   "cell_type": "markdown",
   "id": "e012185d-4b02-432c-9f21-ef1e5f10c6bf",
   "metadata": {},
   "source": [
    "**Q**. Which of the following expressions are used to check if each element of a series s is present in the list of elements [67, 32]. Series s is defined as shown below."
   ]
  },
  {
   "cell_type": "code",
   "execution_count": 32,
   "id": "e3b1b92f-3ad8-410c-832a-9a60cc381ac5",
   "metadata": {},
   "outputs": [
    {
     "data": {
      "text/plain": [
       "a    99\n",
       "b    32\n",
       "c    67\n",
       "dtype: int64"
      ]
     },
     "execution_count": 32,
     "metadata": {},
     "output_type": "execute_result"
    }
   ],
   "source": [
    "s = pd.Series([99, 32, 67],list('abc'))\n",
    "s"
   ]
  },
  {
   "cell_type": "code",
   "execution_count": 33,
   "id": "8732bd4e-240d-4f62-a1ad-fdd98be01550",
   "metadata": {},
   "outputs": [
    {
     "data": {
      "text/plain": [
       "a    False\n",
       "b     True\n",
       "c     True\n",
       "dtype: bool"
      ]
     },
     "execution_count": 33,
     "metadata": {},
     "output_type": "execute_result"
    }
   ],
   "source": [
    "s.isin([67, 32])"
   ]
  },
  {
   "cell_type": "code",
   "execution_count": null,
   "id": "5ff65fe5-671e-4bdf-88c0-40df701a5f8f",
   "metadata": {},
   "outputs": [],
   "source": []
  },
  {
   "cell_type": "code",
   "execution_count": null,
   "id": "7f6b1ade-415d-4a81-ba89-862be4a3d789",
   "metadata": {},
   "outputs": [],
   "source": []
  },
  {
   "cell_type": "code",
   "execution_count": 34,
   "id": "4a58ccd3-ee18-4186-b721-bf69382ce8f1",
   "metadata": {},
   "outputs": [
    {
     "name": "stdout",
     "output_type": "stream",
     "text": [
      "c    98.2\n",
      "a    89.2\n",
      "dtype: float64\n"
     ]
    }
   ],
   "source": [
    "s = pd.Series([89.2, 76.4, 98.2, 75.9], index=list('abcd'))\n",
    "print(s[['c', 'a']])"
   ]
  },
  {
   "cell_type": "code",
   "execution_count": 35,
   "id": "dcbf583c-e8ed-4050-a48c-e385fd6aea65",
   "metadata": {},
   "outputs": [
    {
     "data": {
      "text/plain": [
       "dtype('O')"
      ]
     },
     "execution_count": 35,
     "metadata": {},
     "output_type": "execute_result"
    }
   ],
   "source": [
    "s = pd.Series([9.2, 'hello', 89])\n",
    "s.dtype"
   ]
  },
  {
   "cell_type": "code",
   "execution_count": 36,
   "id": "ea9834e3-f13f-4b2d-9817-501564bec658",
   "metadata": {},
   "outputs": [
    {
     "name": "stdout",
     "output_type": "stream",
     "text": [
      "   a   b\n",
      "0  1   2\n",
      "1  5  10\n",
      "(2, 2)\n"
     ]
    }
   ],
   "source": [
    "data = [{'a': 1, 'b': 2}, {'a': 5, 'b': 10, 'c': 20}]\n",
    "df = pd.DataFrame(data, columns=['a', 'b'])\n",
    "print(df)\n",
    "print(df.shape)"
   ]
  },
  {
   "cell_type": "code",
   "execution_count": null,
   "id": "9f074413-0999-4633-9920-0b3fef710df7",
   "metadata": {},
   "outputs": [],
   "source": []
  }
 ],
 "metadata": {
  "kernelspec": {
   "display_name": "Python 3 (ipykernel)",
   "language": "python",
   "name": "python3"
  },
  "language_info": {
   "codemirror_mode": {
    "name": "ipython",
    "version": 3
   },
   "file_extension": ".py",
   "mimetype": "text/x-python",
   "name": "python",
   "nbconvert_exporter": "python",
   "pygments_lexer": "ipython3",
   "version": "3.9.12"
  }
 },
 "nbformat": 4,
 "nbformat_minor": 5
}
