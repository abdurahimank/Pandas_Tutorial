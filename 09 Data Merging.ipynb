{
 "cells": [
  {
   "cell_type": "markdown",
   "id": "361fd3a7-2edd-4ad8-b42d-e59a43abab50",
   "metadata": {},
   "source": [
    "# Data Merging\n",
    "#### Table of Contents\n",
    "1. Merging\n",
    "2. Joining\n",
    "3. Concatinating"
   ]
  },
  {
   "cell_type": "code",
   "execution_count": 1,
   "id": "907de743-d71f-4a0e-8a53-5e37a7c407c1",
   "metadata": {},
   "outputs": [],
   "source": [
    "import pandas as pd"
   ]
  },
  {
   "cell_type": "markdown",
   "id": "1a1276d9-d9e5-408a-b203-eb4700d042e9",
   "metadata": {},
   "source": [
    "## Merging"
   ]
  },
  {
   "cell_type": "code",
   "execution_count": 2,
   "id": "93a06ee7-a4b9-4f0e-bcf4-34091d361843",
   "metadata": {},
   "outputs": [],
   "source": [
    "df1 = pd.DataFrame({'HPI' : [80, 85, 88, 85],\n",
    "                    'Int_rate' : [2, 3, 2, 2],\n",
    "                    'US_GDP' : [50, 55, 65, 55]}, \n",
    "                   index = [2001, 2002, 2003, 2004])\n",
    "\n",
    "df2 = pd.DataFrame({'HPI' : [80, 85, 88, 85],\n",
    "                    'Int_rate' : [2, 3, 2, 2],\n",
    "                    'US_GDP' : [50, 55, 65, 55]}, \n",
    "                   index = [2005, 2006, 2007, 2008])\n",
    "\n",
    "df3 = pd.DataFrame({'HPI' : [80, 85, 88, 85],\n",
    "                    'Unemployment' : [7, 8, 9, 6],\n",
    "                    'Low_tier_HPI' : [50, 52, 50, 53]}, \n",
    "                   index = [2001, 2002, 2003, 2004])"
   ]
  },
  {
   "cell_type": "code",
   "execution_count": 3,
   "id": "05b248b1-59c5-4342-b8e2-d811f1eefcf5",
   "metadata": {},
   "outputs": [
    {
     "name": "stdout",
     "output_type": "stream",
     "text": [
      "   HPI  Int_rate_x  US_GDP_x  Int_rate_y  US_GDP_y\n",
      "0   80           2        50           2        50\n",
      "1   85           3        55           3        55\n",
      "2   85           3        55           2        55\n",
      "3   85           2        55           3        55\n",
      "4   85           2        55           2        55\n",
      "5   88           2        65           2        65\n"
     ]
    }
   ],
   "source": [
    "print(pd.merge(df1, df2, on='HPI'))"
   ]
  },
  {
   "cell_type": "code",
   "execution_count": 4,
   "id": "f870f314-cdc7-4af0-96f0-7dfc77dff263",
   "metadata": {},
   "outputs": [
    {
     "name": "stdout",
     "output_type": "stream",
     "text": [
      "   HPI  Int_rate  US_GDP_x  US_GDP_y\n",
      "0   80         2        50        50\n",
      "1   85         3        55        55\n",
      "2   88         2        65        65\n",
      "3   85         2        55        55\n"
     ]
    }
   ],
   "source": [
    "print(pd.merge(df1, df2, on=['HPI', 'Int_rate']))"
   ]
  },
  {
   "cell_type": "code",
   "execution_count": 9,
   "id": "47a58ef2-c439-479a-90be-446a66018573",
   "metadata": {},
   "outputs": [
    {
     "name": "stdout",
     "output_type": "stream",
     "text": [
      "   Year  Int_rate  US_GDP  Unemployment  Low_tier_HPI\n",
      "0  2001         2      50             7            50\n",
      "1  2003         2      65             8            52\n",
      "2  2004         2      55             9            50\n"
     ]
    }
   ],
   "source": [
    "df1 = pd.DataFrame({'Year' : [2001, 2002, 2003, 2004],\n",
    "                    'Int_rate' : [2, 3, 2, 2],\n",
    "                    'US_GDP' : [50, 55, 65, 55]})\n",
    "\n",
    "df3 = pd.DataFrame({'Year' : [2001, 2003, 2004, 2005],\n",
    "                    'Unemployment' : [7, 8, 9, 6],\n",
    "                    'Low_tier_HPI' : [50, 52, 50, 53]})\n",
    "\n",
    "merged = pd.merge(df1, df3, on='Year')\n",
    "print(merged)"
   ]
  },
  {
   "cell_type": "code",
   "execution_count": 10,
   "id": "bc3f07e2-16d7-4374-b9e2-1185e442300e",
   "metadata": {},
   "outputs": [
    {
     "name": "stdout",
     "output_type": "stream",
     "text": [
      "      Int_rate  US_GDP  Unemployment  Low_tier_HPI\n",
      "Year                                              \n",
      "2001         2      50             7            50\n",
      "2003         2      65             8            52\n",
      "2004         2      55             9            50\n"
     ]
    }
   ],
   "source": [
    "merged.set_index('Year', inplace=True)\n",
    "print(merged)"
   ]
  },
  {
   "cell_type": "code",
   "execution_count": 11,
   "id": "80b21eb0-1a88-4a9f-bb39-d947d7c13769",
   "metadata": {},
   "outputs": [
    {
     "name": "stdout",
     "output_type": "stream",
     "text": [
      "      Int_rate  US_GDP  Unemployment  Low_tier_HPI\n",
      "Year                                              \n",
      "2001         2      50           7.0          50.0\n",
      "2002         3      55           NaN           NaN\n",
      "2003         2      65           8.0          52.0\n",
      "2004         2      55           9.0          50.0\n"
     ]
    }
   ],
   "source": [
    "merged = pd.merge(df1, df3, on='Year', how='left')\n",
    "merged.set_index('Year', inplace=True)\n",
    "print(merged)"
   ]
  },
  {
   "cell_type": "code",
   "execution_count": 12,
   "id": "c8b41ff3-4927-4a80-9f5c-18c58ec4a6e1",
   "metadata": {},
   "outputs": [
    {
     "name": "stdout",
     "output_type": "stream",
     "text": [
      "      Int_rate  US_GDP  Unemployment  Low_tier_HPI\n",
      "Year                                              \n",
      "2001       2.0    50.0             7            50\n",
      "2003       2.0    65.0             8            52\n",
      "2004       2.0    55.0             9            50\n",
      "2005       NaN     NaN             6            53\n"
     ]
    }
   ],
   "source": [
    "merged = pd.merge(df1, df3, on='Year', how='right')\n",
    "merged.set_index('Year', inplace=True)\n",
    "print(merged)"
   ]
  },
  {
   "cell_type": "code",
   "execution_count": 13,
   "id": "217d30b0-bf77-4611-bea2-ed5ddea79ddb",
   "metadata": {},
   "outputs": [
    {
     "name": "stdout",
     "output_type": "stream",
     "text": [
      "      Int_rate  US_GDP  Unemployment  Low_tier_HPI\n",
      "Year                                              \n",
      "2001         2      50             7            50\n",
      "2003         2      65             8            52\n",
      "2004         2      55             9            50\n"
     ]
    }
   ],
   "source": [
    "merged = pd.merge(df1, df3, on='Year', how='inner')\n",
    "merged.set_index('Year', inplace=True)\n",
    "print(merged)"
   ]
  },
  {
   "cell_type": "code",
   "execution_count": 14,
   "id": "977f6c35-c340-432d-a477-e2dd97a6b776",
   "metadata": {},
   "outputs": [
    {
     "name": "stdout",
     "output_type": "stream",
     "text": [
      "      Int_rate  US_GDP  Unemployment  Low_tier_HPI\n",
      "Year                                              \n",
      "2001       2.0    50.0           7.0          50.0\n",
      "2002       3.0    55.0           NaN           NaN\n",
      "2003       2.0    65.0           8.0          52.0\n",
      "2004       2.0    55.0           9.0          50.0\n",
      "2005       NaN     NaN           6.0          53.0\n"
     ]
    }
   ],
   "source": [
    "merged = pd.merge(df1, df3, on='Year', how='outer')\n",
    "merged.set_index('Year', inplace=True)\n",
    "print(merged)"
   ]
  },
  {
   "cell_type": "code",
   "execution_count": null,
   "id": "54d3f265-cf2f-4431-a879-e9f4e47868a4",
   "metadata": {},
   "outputs": [],
   "source": []
  },
  {
   "cell_type": "code",
   "execution_count": null,
   "id": "91097180-a117-45db-bbd8-ca703b0dc8c3",
   "metadata": {},
   "outputs": [],
   "source": []
  },
  {
   "cell_type": "code",
   "execution_count": null,
   "id": "23a7f399-5e33-4cb5-99a8-a051de8bcf26",
   "metadata": {},
   "outputs": [],
   "source": []
  },
  {
   "cell_type": "code",
   "execution_count": null,
   "id": "c5e4315f-e45f-4106-80a0-f9c4eaa6e48e",
   "metadata": {},
   "outputs": [],
   "source": []
  },
  {
   "cell_type": "markdown",
   "id": "ef57a4fb-9a7f-49f5-8de2-107c3a3d8cda",
   "metadata": {},
   "source": [
    "## Joining"
   ]
  },
  {
   "cell_type": "code",
   "execution_count": 5,
   "id": "7474c72c-d2ec-4ac7-8f8d-874683b35e54",
   "metadata": {},
   "outputs": [],
   "source": [
    "df1 = pd.DataFrame({'HPI' : [80, 85, 88, 85],\n",
    "                    'Int_rate' : [2, 3, 2, 2],\n",
    "                    'US_GDP' : [50, 55, 65, 55]}, \n",
    "                   index = [2001, 2002, 2003, 2004])\n",
    "\n",
    "df2 = pd.DataFrame({'HPI' : [80, 85, 88, 85],\n",
    "                    'Int_rate' : [2, 3, 2, 2],\n",
    "                    'US_GDP' : [50, 55, 65, 55]}, \n",
    "                   index = [2005, 2006, 2007, 2008])\n",
    "\n",
    "df3 = pd.DataFrame({'HPI' : [80, 85, 88, 85],\n",
    "                    'Unemployment' : [7, 8, 9, 6],\n",
    "                    'Low_tier_HPI' : [50, 52, 50, 53]}, \n",
    "                   index = [2001, 2002, 2003, 2004])"
   ]
  },
  {
   "cell_type": "code",
   "execution_count": 7,
   "id": "1abce550-c15a-4e90-a999-65506e71a68a",
   "metadata": {},
   "outputs": [],
   "source": [
    "df1.set_index('HPI', inplace=True)\n",
    "df3.set_index('HPI', inplace=True)"
   ]
  },
  {
   "cell_type": "code",
   "execution_count": 8,
   "id": "4256d72c-fd93-43c3-a8dc-b0c300a12966",
   "metadata": {},
   "outputs": [
    {
     "name": "stdout",
     "output_type": "stream",
     "text": [
      "     Int_rate  US_GDP  Unemployment  Low_tier_HPI\n",
      "HPI                                              \n",
      "80          2      50             7            50\n",
      "85          3      55             8            52\n",
      "85          3      55             6            53\n",
      "85          2      55             8            52\n",
      "85          2      55             6            53\n",
      "88          2      65             9            50\n"
     ]
    }
   ],
   "source": [
    "joined = df1.join(df3)\n",
    "print(joined)"
   ]
  },
  {
   "cell_type": "code",
   "execution_count": null,
   "id": "36b2f328-91db-4223-8ed9-9e0711aa38c4",
   "metadata": {},
   "outputs": [],
   "source": [
    "df1 = pd.DataFrame({'Year' : [2001, 2002, 2003, 2004],\n",
    "                    'Int_rate' : [2, 3, 2, 2],\n",
    "                    'US_GDP' : [50, 55, 65, 55]})\n",
    "\n",
    "df3 = pd.DataFrame({'Year' : [2001, 2003, 2004, 2005],\n",
    "                    'Unemployment' : [7, 8, 9, 6],\n",
    "                    'Low_tier_HPI' : [50, 52, 50, 53]})\n",
    "\n",
    "df1.set_index('HPI', inplace=True)\n",
    "df3.set_index('HPI', inplace=True)\n",
    "\n",
    "joined = df1.join(df3)\n",
    "print(joined)"
   ]
  }
 ],
 "metadata": {
  "kernelspec": {
   "display_name": "Python 3 (ipykernel)",
   "language": "python",
   "name": "python3"
  },
  "language_info": {
   "codemirror_mode": {
    "name": "ipython",
    "version": 3
   },
   "file_extension": ".py",
   "mimetype": "text/x-python",
   "name": "python",
   "nbconvert_exporter": "python",
   "pygments_lexer": "ipython3",
   "version": "3.9.12"
  }
 },
 "nbformat": 4,
 "nbformat_minor": 5
}
