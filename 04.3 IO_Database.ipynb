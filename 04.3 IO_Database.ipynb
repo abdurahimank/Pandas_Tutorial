{
 "cells": [
  {
   "cell_type": "markdown",
   "id": "91cd1aba",
   "metadata": {},
   "source": [
    "# IO_Database\n",
    "#### Table of Contents\n",
    "1. SQLite"
   ]
  },
  {
   "cell_type": "markdown",
   "id": "39f8705a-6ece-4a4b-8bd2-051b9d45eda0",
   "metadata": {},
   "source": [
    "## SQLite\n",
    "### Importing"
   ]
  },
  {
   "cell_type": "code",
   "execution_count": 1,
   "id": "69b13deb-f2d5-407d-9086-9b59468206cf",
   "metadata": {},
   "outputs": [],
   "source": [
    "import pandas as pd\n",
    "import sqlite3"
   ]
  },
  {
   "cell_type": "code",
   "execution_count": 2,
   "id": "61d65515-61bc-48f8-a4f0-56024c35873f",
   "metadata": {},
   "outputs": [],
   "source": [
    "# creating a database with sqlite3\n",
    "conn = sqlite3.connect(\"mydb.db\")\n",
    "cur = conn.cursor()"
   ]
  },
  {
   "cell_type": "code",
   "execution_count": 3,
   "id": "0a9ba5f7-f56b-4e06-abdd-6192840380f8",
   "metadata": {},
   "outputs": [
    {
     "data": {
      "text/plain": [
       "<sqlite3.Cursor at 0x172cc01f650>"
      ]
     },
     "execution_count": 3,
     "metadata": {},
     "output_type": "execute_result"
    }
   ],
   "source": [
    "cur.execute(\"\"\"\n",
    "CREATE TABLE IF NOT EXISTS people (\n",
    "    ssn INTEGER PRIMARY KEY,\n",
    "    name VARCHAR(255) NOT NULL,\n",
    "    age INTEGER\n",
    ")\n",
    "\"\"\")"
   ]
  },
  {
   "cell_type": "code",
   "execution_count": 4,
   "id": "25b9468f-c7be-4295-84f8-ae06f6d4e183",
   "metadata": {},
   "outputs": [],
   "source": [
    "cur.execute(\"\"\"\n",
    "INSERT INTO people (ssn, name, age) VALUES\n",
    "(1, 'Mike', 25),\n",
    "(90, 'Anna', 35),\n",
    "(7193, 'Bob', 76),\n",
    "(1231, 'John', 55),\n",
    "(2313, 'Stan', 18)\n",
    "\"\"\")\n",
    "\n",
    "conn.commit()"
   ]
  },
  {
   "cell_type": "code",
   "execution_count": 5,
   "id": "e2341667-38fc-4527-92a8-f6e94566cf97",
   "metadata": {},
   "outputs": [
    {
     "name": "stdout",
     "output_type": "stream",
     "text": [
      "    ssn  name  age\n",
      "0     1  Mike   25\n",
      "1    90  Anna   35\n",
      "2  1231  John   55\n",
      "3  2313  Stan   18\n",
      "4  7193   Bob   76\n"
     ]
    }
   ],
   "source": [
    "# importing database to pandas\n",
    "sql = pd.read_sql_query(\"SELECT * FROM people\", conn)\n",
    "df = pd.DataFrame(sql, columns=[\"ssn\", \"name\", \"age\"])\n",
    "\n",
    "print(df)"
   ]
  },
  {
   "cell_type": "code",
   "execution_count": 6,
   "id": "9fecb4cd-5be6-4bf7-824a-2969e1dd39ba",
   "metadata": {},
   "outputs": [
    {
     "name": "stdout",
     "output_type": "stream",
     "text": [
      "      name  age\n",
      "ssn            \n",
      "1     Mike   25\n",
      "90    Anna   35\n",
      "1231  John   55\n",
      "2313  Stan   18\n",
      "7193   Bob   76\n"
     ]
    }
   ],
   "source": [
    "df.set_index(\"ssn\", inplace=True)\n",
    "print(df)"
   ]
  },
  {
   "cell_type": "code",
   "execution_count": null,
   "id": "c6476bb3-9163-4388-bdb6-0a459b1cae5f",
   "metadata": {},
   "outputs": [],
   "source": []
  },
  {
   "cell_type": "code",
   "execution_count": null,
   "id": "776c68db-7372-4f19-a23f-39c6fbe5dc2a",
   "metadata": {},
   "outputs": [],
   "source": []
  },
  {
   "cell_type": "code",
   "execution_count": null,
   "id": "7226ae3f-002d-4b54-b17a-70aa8828754a",
   "metadata": {},
   "outputs": [],
   "source": []
  },
  {
   "cell_type": "markdown",
   "id": "0cd3879b-f4ab-4848-b6e4-aed1fd9d8815",
   "metadata": {},
   "source": [
    "### Exporting"
   ]
  },
  {
   "cell_type": "code",
   "execution_count": 7,
   "id": "e5e9258b-ff1b-4e1f-9bab-4d7d19a50b09",
   "metadata": {},
   "outputs": [
    {
     "data": {
      "text/html": [
       "<div>\n",
       "<style scoped>\n",
       "    .dataframe tbody tr th:only-of-type {\n",
       "        vertical-align: middle;\n",
       "    }\n",
       "\n",
       "    .dataframe tbody tr th {\n",
       "        vertical-align: top;\n",
       "    }\n",
       "\n",
       "    .dataframe thead th {\n",
       "        text-align: right;\n",
       "    }\n",
       "</style>\n",
       "<table border=\"1\" class=\"dataframe\">\n",
       "  <thead>\n",
       "    <tr style=\"text-align: right;\">\n",
       "      <th></th>\n",
       "      <th>ssn</th>\n",
       "      <th>name</th>\n",
       "      <th>age</th>\n",
       "    </tr>\n",
       "  </thead>\n",
       "  <tbody>\n",
       "    <tr>\n",
       "      <th>0</th>\n",
       "      <td>132</td>\n",
       "      <td>Fox</td>\n",
       "      <td>50</td>\n",
       "    </tr>\n",
       "    <tr>\n",
       "      <th>1</th>\n",
       "      <td>234</td>\n",
       "      <td>Lion</td>\n",
       "      <td>34</td>\n",
       "    </tr>\n",
       "    <tr>\n",
       "      <th>2</th>\n",
       "      <td>456</td>\n",
       "      <td>Cat</td>\n",
       "      <td>56</td>\n",
       "    </tr>\n",
       "  </tbody>\n",
       "</table>\n",
       "</div>"
      ],
      "text/plain": [
       "   ssn  name  age\n",
       "0  132   Fox   50\n",
       "1  234  Lion   34\n",
       "2  456   Cat   56"
      ]
     },
     "execution_count": 7,
     "metadata": {},
     "output_type": "execute_result"
    }
   ],
   "source": [
    "# Pandas to SQL\n",
    "new_df = pd.DataFrame({\n",
    "    \"ssn\": [132, 234, 456],\n",
    "    \"name\": [\"Fox\", \"Lion\", \"Cat\"],\n",
    "    \"age\": [50, 34, 56]\n",
    "})\n",
    "new_df"
   ]
  },
  {
   "cell_type": "code",
   "execution_count": 8,
   "id": "fee85667-b40e-42d2-867d-29af8e5cbbc3",
   "metadata": {},
   "outputs": [
    {
     "data": {
      "text/plain": [
       "3"
      ]
     },
     "execution_count": 8,
     "metadata": {},
     "output_type": "execute_result"
    }
   ],
   "source": [
    "new_df.to_sql(\"people\", con=conn, if_exists=\"append\", index=False)"
   ]
  },
  {
   "cell_type": "code",
   "execution_count": 9,
   "id": "10716aa5-5d6b-4da6-b41c-e548a7f7cdd7",
   "metadata": {},
   "outputs": [
    {
     "name": "stdout",
     "output_type": "stream",
     "text": [
      "    ssn  name  age\n",
      "0     1  Mike   25\n",
      "1    90  Anna   35\n",
      "2   132   Fox   50\n",
      "3   234  Lion   34\n",
      "4   456   Cat   56\n",
      "5  1231  John   55\n",
      "6  2313  Stan   18\n",
      "7  7193   Bob   76\n"
     ]
    }
   ],
   "source": [
    "# To View\n",
    "sql = pd.read_sql_query(\"SELECT * FROM people\", conn)\n",
    "df = pd.DataFrame(sql, columns=[\"ssn\", \"name\", \"age\"])\n",
    "\n",
    "print(df)"
   ]
  },
  {
   "cell_type": "code",
   "execution_count": null,
   "id": "e6f31a83-9c84-4b24-979e-0740495b348f",
   "metadata": {},
   "outputs": [],
   "source": []
  }
 ],
 "metadata": {
  "kernelspec": {
   "display_name": "Python 3 (ipykernel)",
   "language": "python",
   "name": "python3"
  },
  "language_info": {
   "codemirror_mode": {
    "name": "ipython",
    "version": 3
   },
   "file_extension": ".py",
   "mimetype": "text/x-python",
   "name": "python",
   "nbconvert_exporter": "python",
   "pygments_lexer": "ipython3",
   "version": "3.9.12"
  },
  "toc-autonumbering": false
 },
 "nbformat": 4,
 "nbformat_minor": 5
}
