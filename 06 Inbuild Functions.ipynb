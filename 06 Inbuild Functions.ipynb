{
 "cells": [
  {
   "cell_type": "markdown",
   "id": "bbb65a5c",
   "metadata": {},
   "source": [
    "# Inbuild Functions\n",
    "#### Table of Index\n",
    "1. Statistics\n",
    "2. Other"
   ]
  },
  {
   "cell_type": "code",
   "execution_count": 2,
   "id": "0baecfbe",
   "metadata": {},
   "outputs": [],
   "source": [
    "import numpy as np\n",
    "import pandas as pd"
   ]
  },
  {
   "cell_type": "code",
   "execution_count": 3,
   "id": "e6a20f28",
   "metadata": {},
   "outputs": [
    {
     "data": {
      "text/plain": [
       "Brasil    35.46\n",
       "Russia    78.89\n",
       "India     34.23\n",
       "China     97.12\n",
       "SA        15.78\n",
       "Name: Brics Nations GDP, dtype: float64"
      ]
     },
     "execution_count": 3,
     "metadata": {},
     "output_type": "execute_result"
    }
   ],
   "source": [
    "a = pd.Series([35.46, 78.89, 34.23, 97.12, 15.78], \n",
    "             index = [\"Brasil\", \"Russia\", \"India\", \"China\", \"SA\"], name = \"Brics Nations GDP\")\n",
    "a"
   ]
  },
  {
   "cell_type": "code",
   "execution_count": 4,
   "id": "dd0c3a2f",
   "metadata": {},
   "outputs": [
    {
     "data": {
      "text/plain": [
       "52.29599999999999"
      ]
     },
     "execution_count": 4,
     "metadata": {},
     "output_type": "execute_result"
    }
   ],
   "source": [
    "a.mean()"
   ]
  },
  {
   "cell_type": "code",
   "execution_count": 5,
   "id": "e5d6807d",
   "metadata": {},
   "outputs": [
    {
     "data": {
      "text/plain": [
       "34.13092922848717"
      ]
     },
     "execution_count": 5,
     "metadata": {},
     "output_type": "execute_result"
    }
   ],
   "source": [
    "a.std()"
   ]
  },
  {
   "cell_type": "code",
   "execution_count": 6,
   "id": "951cd618",
   "metadata": {},
   "outputs": [
    {
     "data": {
      "text/plain": [
       "1164.92033"
      ]
     },
     "execution_count": 6,
     "metadata": {},
     "output_type": "execute_result"
    }
   ],
   "source": [
    "a.var()"
   ]
  },
  {
   "cell_type": "markdown",
   "id": "841244c0-2617-4ee9-ae5b-d7dea84dd823",
   "metadata": {},
   "source": [
    "# Other"
   ]
  },
  {
   "cell_type": "markdown",
   "id": "dcd65792-710a-453b-803e-33c394e33d8f",
   "metadata": {},
   "source": [
    "### unique\n",
    "- return unique elements from a column"
   ]
  },
  {
   "cell_type": "code",
   "execution_count": 1,
   "id": "b615b6cb-26aa-490b-8ce8-1d30f4c43357",
   "metadata": {},
   "outputs": [
    {
     "data": {
      "text/html": [
       "<div>\n",
       "<style scoped>\n",
       "    .dataframe tbody tr th:only-of-type {\n",
       "        vertical-align: middle;\n",
       "    }\n",
       "\n",
       "    .dataframe tbody tr th {\n",
       "        vertical-align: top;\n",
       "    }\n",
       "\n",
       "    .dataframe thead th {\n",
       "        text-align: right;\n",
       "    }\n",
       "</style>\n",
       "<table border=\"1\" class=\"dataframe\">\n",
       "  <thead>\n",
       "    <tr style=\"text-align: right;\">\n",
       "      <th></th>\n",
       "      <th>Duration</th>\n",
       "      <th>Pulse</th>\n",
       "      <th>Maxpulse</th>\n",
       "      <th>Calories</th>\n",
       "    </tr>\n",
       "  </thead>\n",
       "  <tbody>\n",
       "    <tr>\n",
       "      <th>0</th>\n",
       "      <td>60</td>\n",
       "      <td>110</td>\n",
       "      <td>130</td>\n",
       "      <td>409.1</td>\n",
       "    </tr>\n",
       "    <tr>\n",
       "      <th>1</th>\n",
       "      <td>60</td>\n",
       "      <td>117</td>\n",
       "      <td>145</td>\n",
       "      <td>479.0</td>\n",
       "    </tr>\n",
       "    <tr>\n",
       "      <th>2</th>\n",
       "      <td>60</td>\n",
       "      <td>103</td>\n",
       "      <td>135</td>\n",
       "      <td>340.0</td>\n",
       "    </tr>\n",
       "    <tr>\n",
       "      <th>3</th>\n",
       "      <td>45</td>\n",
       "      <td>109</td>\n",
       "      <td>175</td>\n",
       "      <td>282.4</td>\n",
       "    </tr>\n",
       "    <tr>\n",
       "      <th>4</th>\n",
       "      <td>45</td>\n",
       "      <td>117</td>\n",
       "      <td>148</td>\n",
       "      <td>406.0</td>\n",
       "    </tr>\n",
       "  </tbody>\n",
       "</table>\n",
       "</div>"
      ],
      "text/plain": [
       "   Duration  Pulse  Maxpulse  Calories\n",
       "0        60    110       130     409.1\n",
       "1        60    117       145     479.0\n",
       "2        60    103       135     340.0\n",
       "3        45    109       175     282.4\n",
       "4        45    117       148     406.0"
      ]
     },
     "execution_count": 1,
     "metadata": {},
     "output_type": "execute_result"
    }
   ],
   "source": [
    "import pandas as pd\n",
    "\n",
    "file_path = \"data.csv\"\n",
    "pd = pd.read_csv(file_path)\n",
    "pd.head()"
   ]
  },
  {
   "cell_type": "code",
   "execution_count": 4,
   "id": "972bb3be-a8a4-4509-8e59-e1aecb2f9448",
   "metadata": {},
   "outputs": [
    {
     "data": {
      "text/plain": [
       "array([ 60,  45,  30,  80,  20, 210, 160, 180, 150, 300,  90, 120, 270,\n",
       "        15,  25,  75], dtype=int64)"
      ]
     },
     "execution_count": 4,
     "metadata": {},
     "output_type": "execute_result"
    }
   ],
   "source": [
    "pd[\"Duration\"].unique()  # return unique elements from column"
   ]
  },
  {
   "cell_type": "code",
   "execution_count": null,
   "id": "2f2b94a9-5f58-4254-b45b-d82263c84ac5",
   "metadata": {},
   "outputs": [],
   "source": []
  }
 ],
 "metadata": {
  "kernelspec": {
   "display_name": "Python 3 (ipykernel)",
   "language": "python",
   "name": "python3"
  },
  "language_info": {
   "codemirror_mode": {
    "name": "ipython",
    "version": 3
   },
   "file_extension": ".py",
   "mimetype": "text/x-python",
   "name": "python",
   "nbconvert_exporter": "python",
   "pygments_lexer": "ipython3",
   "version": "3.9.12"
  }
 },
 "nbformat": 4,
 "nbformat_minor": 5
}
