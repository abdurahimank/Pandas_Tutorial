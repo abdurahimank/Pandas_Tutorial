{
 "cells": [
  {
   "cell_type": "markdown",
   "id": "efffa556-97b1-4cc3-8880-91ea6a9a7493",
   "metadata": {},
   "source": [
    "# Handson"
   ]
  },
  {
   "cell_type": "code",
   "execution_count": null,
   "id": "a979bfe9-2ec2-46be-b5e2-e09ecd50c77c",
   "metadata": {},
   "outputs": [],
   "source": []
  },
  {
   "cell_type": "code",
   "execution_count": null,
   "id": "33c54d08-d68f-4dd0-9694-af67fccafdce",
   "metadata": {},
   "outputs": [],
   "source": []
  },
  {
   "cell_type": "code",
   "execution_count": null,
   "id": "41c52536-2031-47ca-8d0f-1e13de2c07e2",
   "metadata": {},
   "outputs": [],
   "source": []
  },
  {
   "cell_type": "markdown",
   "id": "9e608652-fc87-4faa-bd2a-1cfcaf65793e",
   "metadata": {},
   "source": [
    "## Python Pandas | 3 | Working with CSV files"
   ]
  },
  {
   "cell_type": "markdown",
   "id": "ab8b8701-18c3-4213-88b1-84779e54b705",
   "metadata": {},
   "source": [
    "### Method 1 - Failed"
   ]
  },
  {
   "cell_type": "code",
   "execution_count": 19,
   "id": "58c810d7-78e7-400d-9b0d-bb24f6b8b215",
   "metadata": {},
   "outputs": [],
   "source": [
    "# Task 1\n",
    "import pandas as pd \n",
    "heights_A = pd.Series([176.2, 158.4, 167.6, 156.2, 161.4], index=[\"s1\", \"s2\", \"s3\", \"s4\", \"s5\"])\n",
    "weights_A = pd.Series([85.1, 90.2, 76.8, 80.4, 78.9], index=[\"s1\", \"s2\", \"s3\", \"s4\", \"s5\"])\n",
    "data = {\"Student_height\" : heights_A, \"Student_weight\" : weights_A}\n",
    "df_A = pd.DataFrame(data)\n",
    "# print(df_A)\n",
    "df_A.to_csv(\"classA.csv\")"
   ]
  },
  {
   "cell_type": "code",
   "execution_count": null,
   "id": "2b664232-2e8b-4a35-9aa9-dc4cd0ac8c3f",
   "metadata": {},
   "outputs": [],
   "source": [
    "# check hackerrank"
   ]
  },
  {
   "cell_type": "code",
   "execution_count": 20,
   "id": "fb62b062-da7e-4f65-8f0e-70303025a677",
   "metadata": {},
   "outputs": [
    {
     "name": "stdout",
     "output_type": "stream",
     "text": [
      "  Unnamed: 0  Student_height  Student_weight\n",
      "0         s1           176.2            85.1\n",
      "1         s2           158.4            90.2\n",
      "2         s3           167.6            76.8\n",
      "3         s4           156.2            80.4\n",
      "4         s5           161.4            78.9\n"
     ]
    }
   ],
   "source": [
    "# Task 2\n",
    "df_A2 = pd.read_csv(\"classA.csv\")\n",
    "print(df_A2)"
   ]
  },
  {
   "cell_type": "code",
   "execution_count": 21,
   "id": "377beaa3-bae9-46fe-8f6f-25b9be2017d4",
   "metadata": {},
   "outputs": [
    {
     "name": "stdout",
     "output_type": "stream",
     "text": [
      "    Student_height  Student_weight\n",
      "s1           176.2            85.1\n",
      "s2           158.4            90.2\n",
      "s3           167.6            76.8\n",
      "s4           156.2            80.4\n",
      "s5           161.4            78.9\n"
     ]
    }
   ],
   "source": [
    "# Task 3\n",
    "df_A3 = pd.read_csv(\"classA.csv\", index_col=0)\n",
    "print(df_A3)"
   ]
  },
  {
   "cell_type": "code",
   "execution_count": 23,
   "id": "e1c27e2b-8287-4b8c-820f-0da38f485f74",
   "metadata": {},
   "outputs": [],
   "source": [
    "# Task 4\n",
    "from numpy import random\n",
    "random.seed(100)\n",
    "data_B = {\"Student_height\" : random.normal(loc=170, scale=25, size=(5,)),\n",
    "          \"Student_weight\" : random.normal(loc=75, scale=12, size=(5,))}\n",
    "df_B = pd.DataFrame(data_B, index=[\"s1\", \"s2\", \"s3\", \"s4\", \"s5\"])\n",
    "# print(df_B)\n",
    "df_B.to_csv(\"classB.csv\", index=False)"
   ]
  },
  {
   "cell_type": "code",
   "execution_count": 24,
   "id": "cca142c3-914d-4247-8931-cb9cfd634aed",
   "metadata": {},
   "outputs": [
    {
     "name": "stdout",
     "output_type": "stream",
     "text": [
      "   Student_height  Student_weight\n",
      "0      126.255863       81.170626\n",
      "1      178.567010       77.654156\n",
      "2      198.825895       62.159480\n",
      "3      163.689099       72.726050\n",
      "4      194.533020       78.060017\n"
     ]
    }
   ],
   "source": [
    "# Task 5\n",
    "df_B2 = pd.read_csv(\"classB.csv\")\n",
    "print(df_B2)"
   ]
  },
  {
   "cell_type": "code",
   "execution_count": 25,
   "id": "d4ffb171-569c-4667-8942-dde494af8bca",
   "metadata": {},
   "outputs": [
    {
     "name": "stdout",
     "output_type": "stream",
     "text": [
      "                    0                  1\n",
      "0      Student_height     Student_weight\n",
      "1  126.25586317363256  81.17062609673259\n",
      "2  178.56701008318754  77.65415603065681\n",
      "3   198.8258950640911  62.15948003318048\n",
      "4  163.68909908696526   72.7260500301219\n",
      "5  194.53301967378079  78.06001733128058\n"
     ]
    }
   ],
   "source": [
    "# Task 6\n",
    "df_B3 = pd.read_csv(\"classB.csv\", header=None)\n",
    "print(df_B3)"
   ]
  },
  {
   "cell_type": "code",
   "execution_count": 26,
   "id": "919b26f7-25f9-4c0c-96a0-3a5cc054260a",
   "metadata": {},
   "outputs": [
    {
     "name": "stdout",
     "output_type": "stream",
     "text": [
      "            0          1\n",
      "0  178.567010  77.654156\n",
      "1  198.825895  62.159480\n",
      "2  163.689099  72.726050\n",
      "3  194.533020  78.060017\n"
     ]
    }
   ],
   "source": [
    "# Task 7\n",
    "df_B4 = pd.read_csv(\"classB.csv\", header=None, skiprows=2)\n",
    "print(df_B4)"
   ]
  },
  {
   "cell_type": "code",
   "execution_count": null,
   "id": "c1364987-0c62-4d5f-b2e9-b4e1578c58a9",
   "metadata": {},
   "outputs": [],
   "source": []
  },
  {
   "cell_type": "code",
   "execution_count": null,
   "id": "916c9ba6-0daa-4d64-96ed-113527c583f0",
   "metadata": {},
   "outputs": [],
   "source": []
  },
  {
   "cell_type": "markdown",
   "id": "560b4896-9845-4da3-9276-1ae448832347",
   "metadata": {},
   "source": [
    "### Method 2 - Passed"
   ]
  },
  {
   "cell_type": "code",
   "execution_count": 35,
   "id": "4510be0e-ebda-46e4-94ef-4225d7d49b33",
   "metadata": {},
   "outputs": [
    {
     "name": "stdout",
     "output_type": "stream",
     "text": [
      "  Unnamed: 0  Student_height  Student_weight\n",
      "0         s1           176.2            85.1\n",
      "1         s2           158.4            90.2\n",
      "2         s3           167.6            76.8\n",
      "3         s4           156.2            80.4\n",
      "4         s5           161.4            78.9\n",
      "    Student_height  Student_weight\n",
      "s1           176.2            85.1\n",
      "s2           158.4            90.2\n",
      "s3           167.6            76.8\n",
      "s4           156.2            80.4\n",
      "s5           161.4            78.9\n",
      "classB.csv\n",
      "   Student_height  Student_weight\n",
      "0      126.255863       54.002814\n",
      "1      178.567010       79.112165\n",
      "2      198.825895       88.836430\n",
      "3      163.689099       71.970768\n",
      "4      194.533020       86.775849\n",
      "                    0                  1\n",
      "0      Student_height     Student_weight\n",
      "1  126.25586317363256  54.00281432334363\n",
      "2  178.56701008318754  79.11216483993003\n",
      "3   198.8258950640911  88.83642963076373\n",
      "4  163.68909908696526  71.97076756174332\n",
      "5  194.53301967378079  86.77584944341478\n",
      "            0          1\n",
      "0  178.567010  79.112165\n",
      "1  198.825895  88.836430\n",
      "2  163.689099  71.970768\n",
      "3  194.533020  86.775849\n"
     ]
    }
   ],
   "source": [
    "import pandas as pd\n",
    "import numpy as np\n",
    "heights_A = pd.Series([176.2,158.4,167.6,156.2,161.4])\n",
    "heights_A.index = ['s1','s2','s3','s4','s5']\n",
    "weights_A = pd.Series([85.1,90.2,76.8,80.4,78.9])\n",
    "weights_A.index = ['s1','s2','s3','s4','s5']\n",
    "df_A = pd.DataFrame()\n",
    "df_A['Student_height'] = heights_A\n",
    "df_A['Student_weight'] = weights_A\n",
    "df_A.to_csv('classA.csv')\n",
    "\n",
    "# TASK 2\n",
    "df_A2 = pd.read_csv('classA.csv')\n",
    "print(df_A2)\n",
    "\n",
    "#TASK 3\n",
    "df_A3 = pd.read_csv('classA.csv',index_col = 0)\n",
    "print(df_A3)\n",
    "\n",
    "#TASK 4\n",
    "my_mean = 170.0\n",
    "my_std = 25.0\n",
    "np.random.seed(100)\n",
    "heights_B = pd.Series(np.random.normal(loc = my_mean, scale = my_std, size = 5))\n",
    "heights_B.index = ['s1','s2','s3','s4','s5']\n",
    "my_mean1 = 75.0\n",
    "my_std1 = 12.0\n",
    "np.random.seed(100)\n",
    "weights_B = pd.Series(np.random.normal(loc = my_mean1,scale = my_std1,size = 5))\n",
    "weights_B.index = ['s1','s2','s3','s4','s5']\n",
    "df_B = pd.DataFrame()\n",
    "df_B['Student_height'] = heights_B\n",
    "df_B['Student_weight'] = weights_B\n",
    "\n",
    "df_B.to_csv('classB.csv',index = False)\n",
    "print('classB.csv')\n",
    "\n",
    "#TASK 5\n",
    "df_B2 = pd.read_csv('classB.csv')\n",
    "print(df_B2)\n",
    "\n",
    "#TASK 6\n",
    "df_B3 = pd.read_csv('classB.csv',header = None)\n",
    "print(df_B3)\n",
    "\n",
    "#TASK 7\n",
    "\n",
    "df_B4 = pd.read_csv('classB.csv',header = None, skiprows = 2)\n",
    "print(df_B4)"
   ]
  },
  {
   "cell_type": "code",
   "execution_count": null,
   "id": "ad5e351f-c0f5-4eab-9ce9-a4dd9324469e",
   "metadata": {},
   "outputs": [],
   "source": []
  },
  {
   "cell_type": "markdown",
   "id": "8a0380dc-a09b-46ef-a884-6aeecb2d0bad",
   "metadata": {},
   "source": [
    "## Python Pandas | 4 | Indexing Dataframes"
   ]
  },
  {
   "cell_type": "code",
   "execution_count": 32,
   "id": "df6f2a3a-876d-42b3-86fd-a2ac0ce0ff01",
   "metadata": {},
   "outputs": [
    {
     "name": "stdout",
     "output_type": "stream",
     "text": [
      "2017-09-03 00:00:00\n"
     ]
    }
   ],
   "source": [
    "# Task 1\n",
    "import pandas as pd\n",
    "import numpy as np\n",
    "\n",
    "dates = pd.date_range(start='9/1/2017', end='9/15/2017')\n",
    "print(dates[2])"
   ]
  },
  {
   "cell_type": "code",
   "execution_count": 33,
   "id": "1666bb50-909a-45d9-9299-fe276d39ba70",
   "metadata": {},
   "outputs": [
    {
     "name": "stdout",
     "output_type": "stream",
     "text": [
      "DatetimeIndex(['2017-09-14', '2017-09-09'], dtype='datetime64[ns]', freq=None)\n"
     ]
    }
   ],
   "source": [
    "# Task 2\n",
    "datelist = ['14-Sep-2017', '9-Sep-2017']\n",
    "dates_to_be_searched = pd.to_datetime(datelist)\n",
    "print(dates_to_be_searched)"
   ]
  },
  {
   "cell_type": "code",
   "execution_count": 34,
   "id": "98d73c9a-568a-4f61-b84c-2dd5e1863a9c",
   "metadata": {},
   "outputs": [
    {
     "name": "stdout",
     "output_type": "stream",
     "text": [
      "[ True  True]\n"
     ]
    }
   ],
   "source": [
    "# Task 3\n",
    "print(dates_to_be_searched.isin(dates))"
   ]
  },
  {
   "cell_type": "code",
   "execution_count": 39,
   "id": "30a99003-3917-48c1-8047-3f55d5f0b967",
   "metadata": {},
   "outputs": [
    {
     "data": {
      "text/plain": [
       "FrozenList([['classA', 'classB'], ['s1', 's2', 's3', 's4', 's5']])"
      ]
     },
     "execution_count": 39,
     "metadata": {},
     "output_type": "execute_result"
    }
   ],
   "source": [
    "# Task 4\n",
    "arraylist = [['classA']*5 + ['classB']*5, ['s1', 's2', 's3', 's4', 's5']*2]\n",
    "# arraylist\n",
    "\n",
    "mi_index = pd.MultiIndex.from_arrays(arraylist)\n",
    "# mi_index\n",
    "\n",
    "mi_index.levels"
   ]
  },
  {
   "cell_type": "code",
   "execution_count": 37,
   "id": "75818b9e-55eb-40b4-8f2f-5ae5f1877fa8",
   "metadata": {},
   "outputs": [
    {
     "data": {
      "text/plain": [
       "MultiIndex([('classA', 's1'),\n",
       "            ('classA', 's2'),\n",
       "            ('classA', 's3'),\n",
       "            ('classA', 's4'),\n",
       "            ('classA', 's5'),\n",
       "            ('classB', 's1'),\n",
       "            ('classB', 's2'),\n",
       "            ('classB', 's3'),\n",
       "            ('classB', 's4'),\n",
       "            ('classB', 's5')],\n",
       "           )"
      ]
     },
     "execution_count": 37,
     "metadata": {},
     "output_type": "execute_result"
    }
   ],
   "source": [
    "mi_index = pd.MultiIndex.from_arrays(arraylist)\n",
    "mi_index"
   ]
  },
  {
   "cell_type": "code",
   "execution_count": 38,
   "id": "3a2a1268-dc45-4b5c-906e-a63929ff75c3",
   "metadata": {},
   "outputs": [
    {
     "data": {
      "text/plain": [
       "FrozenList([['classA', 'classB'], ['s1', 's2', 's3', 's4', 's5']])"
      ]
     },
     "execution_count": 38,
     "metadata": {},
     "output_type": "execute_result"
    }
   ],
   "source": [
    "mi_index.levels"
   ]
  },
  {
   "cell_type": "markdown",
   "id": "e8b76446-934d-4ce6-bd97-64cdd82512a0",
   "metadata": {},
   "source": [
    "## Python Pandas | 5 | Data Cleaning"
   ]
  },
  {
   "cell_type": "code",
   "execution_count": 8,
   "id": "5a83c310-6d95-4cce-82be-2c37cbdd5d33",
   "metadata": {},
   "outputs": [
    {
     "name": "stdout",
     "output_type": "stream",
     "text": [
      "    Student_height  Student_weight\n",
      "s1           176.2            85.1\n",
      "s2           158.4            90.2\n",
      "s4           156.2            80.4\n"
     ]
    }
   ],
   "source": [
    "# Task 1\n",
    "import pandas as pd \n",
    "import numpy as np\n",
    "heights_A = pd.Series([176.2, 158.4, 167.6, 156.2, 161.4], index=[\"s1\", \"s2\", \"s3\", \"s4\", \"s5\"])\n",
    "weights_A = pd.Series([85.1, 90.2, 76.8, 80.4, 78.9], index=[\"s1\", \"s2\", \"s3\", \"s4\", \"s5\"])\n",
    "data = {\"Student_height\" : heights_A, \"Student_weight\" : weights_A}\n",
    "df_A = pd.DataFrame(data)\n",
    "# print(df_A)\n",
    "df_A.loc['s3'] = np.nan\n",
    "# print(df_A)\n",
    "df_A.loc['s5', 'Student_weight'] = np.nan\n",
    "# print(df_A)\n",
    "df_A2 = df_A.dropna()\n",
    "print(df_A2)"
   ]
  },
  {
   "cell_type": "code",
   "execution_count": null,
   "id": "a749d980-e5cc-481d-86cb-d4cc6cce5ccf",
   "metadata": {},
   "outputs": [],
   "source": []
  },
  {
   "cell_type": "markdown",
   "id": "3d640f8a-9833-4d70-868f-6a549a7e3c2d",
   "metadata": {},
   "source": [
    "## Python Pandas | 6 | Data Aggregation"
   ]
  },
  {
   "cell_type": "code",
   "execution_count": 2,
   "id": "30666fd8-d169-41f1-84ae-3d120c32f4cb",
   "metadata": {},
   "outputs": [
    {
     "name": "stdout",
     "output_type": "stream",
     "text": [
      "    Student_height  Student_weight\n",
      "s3           167.6            76.8\n",
      "s5           161.4            78.9\n"
     ]
    }
   ],
   "source": [
    "# Task 1\n",
    "import pandas as pd \n",
    "import numpy as np\n",
    "heights_A = pd.Series([176.2, 158.4, 167.6, 156.2, 161.4], index=[\"s1\", \"s2\", \"s3\", \"s4\", \"s5\"])\n",
    "weights_A = pd.Series([85.1, 90.2, 76.8, 80.4, 78.9], index=[\"s1\", \"s2\", \"s3\", \"s4\", \"s5\"])\n",
    "data = {\"Student_height\" : heights_A, \"Student_weight\" : weights_A}\n",
    "df_A = pd.DataFrame(data)\n",
    "# print(df_A)\n",
    "df_A_filter1 = df_A[(df_A.Student_height > 160.0) & (df_A.Student_weight < 80.0)]\n",
    "print(df_A_filter1)"
   ]
  },
  {
   "cell_type": "code",
   "execution_count": 4,
   "id": "cfd7fa51-e685-4abd-88d5-73b5612b7d57",
   "metadata": {},
   "outputs": [
    {
     "name": "stdout",
     "output_type": "stream",
     "text": [
      "    Student_height  Student_weight\n",
      "s5           161.4            78.9\n"
     ]
    }
   ],
   "source": [
    "# Task 2\n",
    "df_A_filter2 = df_A[df_A.index.str.endswith(\"5\")]\n",
    "print(df_A_filter2)"
   ]
  },
  {
   "cell_type": "code",
   "execution_count": 8,
   "id": "7d94e6c6-48a1-4514-9050-defd62652842",
   "metadata": {},
   "outputs": [
    {
     "name": "stdout",
     "output_type": "stream",
     "text": [
      "        Student_height  Student_weight\n",
      "Gender                                \n",
      "F           159.900000       84.550000\n",
      "M           166.666667       80.766667\n"
     ]
    }
   ],
   "source": [
    "# Task 3\n",
    "df_A[\"Gender\"] = [\"M\", \"F\", \"M\", \"M\", \"F\"]\n",
    "# print(df_A)\n",
    "df_groups = df_A.groupby(\"Gender\")\n",
    "# print(df_groups)\n",
    "print(df_groups.mean())"
   ]
  },
  {
   "cell_type": "code",
   "execution_count": null,
   "id": "72d320e7-ed4f-4275-8af0-8b193d286f5a",
   "metadata": {},
   "outputs": [],
   "source": []
  },
  {
   "cell_type": "markdown",
   "id": "3bd4b5bc-0ec4-432e-86ca-f307d6981cb6",
   "metadata": {},
   "source": [
    "## Python Pandas | 7 | Data Merging 1"
   ]
  },
  {
   "cell_type": "markdown",
   "id": "95b3c66c-8125-40b0-b796-f640c7d8d2b1",
   "metadata": {},
   "source": [
    "### Method 1 - Failed"
   ]
  },
  {
   "cell_type": "code",
   "execution_count": 10,
   "id": "11b7d1d3-a1bd-4ce3-bafb-caf5d6288667",
   "metadata": {},
   "outputs": [
    {
     "name": "stdout",
     "output_type": "stream",
     "text": [
      "    Student_height  Student_weight Gender\n",
      "s1           176.2            85.1      M\n",
      "s2           158.4            90.2      F\n",
      "s3           167.6            76.8      M\n",
      "s4           156.2            80.4      M\n",
      "s5           161.4            78.9      F\n",
      "s6           165.4            82.7      F\n"
     ]
    },
    {
     "name": "stderr",
     "output_type": "stream",
     "text": [
      "C:\\Users\\abdur\\AppData\\Local\\Temp\\ipykernel_11032\\4057193878.py:16: FutureWarning: The frame.append method is deprecated and will be removed from pandas in a future version. Use pandas.concat instead.\n",
      "  df_AA = df_A.append(s)\n"
     ]
    }
   ],
   "source": [
    "# Task 1\n",
    "import pandas as pd \n",
    "import numpy as np\n",
    "heights_A = pd.Series([176.2, 158.4, 167.6, 156.2, 161.4], index=[\"s1\", \"s2\", \"s3\", \"s4\", \"s5\"])\n",
    "weights_A = pd.Series([85.1, 90.2, 76.8, 80.4, 78.9], index=[\"s1\", \"s2\", \"s3\", \"s4\", \"s5\"])\n",
    "data = {\"Student_height\" : heights_A, \"Student_weight\" : weights_A}\n",
    "df_A = pd.DataFrame(data)\n",
    "# print(df_A)\n",
    "\n",
    "df_A[\"Gender\"] = [\"M\", \"F\", \"M\", \"M\", \"F\"]\n",
    "# print(df_A)\n",
    "\n",
    "s = pd.Series([165.4, 82.7, \"F\"], index=[\"Student_height\", \"Student_weight\", \"Gender\"], name=\"s6\")\n",
    "# print(s)\n",
    "\n",
    "df_AA = df_A.append(s)\n",
    "print(df_AA)"
   ]
  },
  {
   "cell_type": "code",
   "execution_count": 24,
   "id": "1cbffed7-8cbc-4a8a-bea1-eee54fa8c5f9",
   "metadata": {},
   "outputs": [
    {
     "name": "stdout",
     "output_type": "stream",
     "text": [
      "     Student_height  Student_weight Gender\n",
      "s1       176.200000       85.100000      M\n",
      "s2       158.400000       90.200000      F\n",
      "s3       167.600000       76.800000      M\n",
      "s4       156.200000       80.400000      M\n",
      "s5       161.400000       78.900000      F\n",
      "s6       165.400000       82.700000      F\n",
      "s7       126.255863       81.170626      F\n",
      "s8       178.567010       77.654156      M\n",
      "s9       198.825895       62.159480      F\n",
      "s10      163.689099       72.726050      F\n",
      "s11      194.533020       78.060017      M\n"
     ]
    }
   ],
   "source": [
    "# Task 2\n",
    "from numpy import random\n",
    "random.seed(100)\n",
    "heights_B = pd.Series(random.normal(loc=170, scale=25, size=(5,)), index=[\"s1\", \"s2\", \"s3\", \"s4\", \"s5\"])\n",
    "weights_B = pd.Series(random.normal(loc=75, scale=12, size=(5,)), index=[\"s1\", \"s2\", \"s3\", \"s4\", \"s5\"])\n",
    "df_B = pd.DataFrame({\"Student_height\" : heights_B,\n",
    "          \"Student_weight\" : weights_B})\n",
    "\n",
    "df_B[\"index\"] = [\"s7\", \"s8\", \"s9\", \"s10\", \"s11\"]\n",
    "df_B.set_index(\"index\", inplace=True, drop=True)\n",
    "\n",
    "df_B[\"Gender\"] = [\"F\", \"M\", \"F\", \"F\", \"M\"]\n",
    "# print(df_B)\n",
    "\n",
    "df = pd.concat([df_AA, df_B])\n",
    "print(df)"
   ]
  },
  {
   "cell_type": "code",
   "execution_count": null,
   "id": "83c84935-a29c-437b-91ac-b060254857cc",
   "metadata": {},
   "outputs": [],
   "source": []
  },
  {
   "cell_type": "markdown",
   "id": "5c1570b6-45fb-4370-a066-7aba4b0a33bc",
   "metadata": {},
   "source": [
    "### Method 2 - Passed"
   ]
  },
  {
   "cell_type": "code",
   "execution_count": 33,
   "id": "9cb35fa1-b549-4e50-9880-85020be49e08",
   "metadata": {},
   "outputs": [
    {
     "name": "stdout",
     "output_type": "stream",
     "text": [
      "    Student_height  Student_weight Gender\n",
      "s1           176.2            85.1      M\n",
      "s2           158.4            90.2      F\n",
      "s3           167.6            76.8      M\n",
      "s4           156.2            80.4      M\n",
      "s5           161.4            78.9      F\n",
      "s6           165.4            82.7      F\n",
      "     Student_height  Student_weight Gender\n",
      "s1       176.200000       85.100000      M\n",
      "s2       158.400000       90.200000      F\n",
      "s3       167.600000       76.800000      M\n",
      "s4       156.200000       80.400000      M\n",
      "s5       161.400000       78.900000      F\n",
      "s6       165.400000       82.700000      F\n",
      "s7       126.255863       54.002814      F\n",
      "s8       178.567010       79.112165      M\n",
      "s9       198.825895       88.836430      F\n",
      "s10      163.689099       71.970768      F\n",
      "s11      194.533020       86.775849      M\n"
     ]
    },
    {
     "name": "stderr",
     "output_type": "stream",
     "text": [
      "C:\\Users\\abdur\\AppData\\Local\\Temp\\ipykernel_11032\\650130035.py:18: FutureWarning: The frame.append method is deprecated and will be removed from pandas in a future version. Use pandas.concat instead.\n",
      "  df_AA = df_A.append(s)\n"
     ]
    }
   ],
   "source": [
    "import pandas as pd\n",
    "import numpy as np\n",
    "\n",
    "height_A = pd.Series([176.2,158.4,167.6,156.2,161.4])\n",
    "height_A.index = ['s1','s2','s3','s4','s5']\n",
    "\n",
    "weights_A = pd.Series([85.1,90.2,76.8,80.4,78.9])\n",
    "weights_A.index = ['s1','s2','s3','s4','s5']\n",
    "\n",
    "df_A = pd.DataFrame()\n",
    "df_A['Student_height'] = height_A\n",
    "df_A['Student_weight'] = weights_A\n",
    "\n",
    "df_A['Gender'] = ['M','F','M','M','F']\n",
    "\n",
    "s = pd.Series([165.4,82.7,'F'],index = ['Student_height','Student_weight','Gender'],name='s6')\n",
    "\n",
    "df_AA = df_A.append(s)\n",
    "print(df_AA)\n",
    "\n",
    "#TASK - 2\n",
    "my_mean = 170.0\n",
    "my_std = 25.0\n",
    "np.random.seed(100)\n",
    "heights_B = pd.Series(np.random.normal(loc = my_mean,scale=my_std,size = 5))\n",
    "heights_B.index = ['s1','s2','s3','s4','s5']\n",
    "\n",
    "my_mean1 = 75.0\n",
    "my_std1 = 12.0\n",
    "np.random.seed(100)\n",
    "weights_B = pd.Series(np.random.normal(loc = my_mean1,scale=my_std1,size = 5))\n",
    "weights_B.index = ['s1','s2','s3','s4','s5']\n",
    "\n",
    "df_B = pd.DataFrame()\n",
    "df_B['Student_height'] = heights_B\n",
    "df_B['Student_weight'] = weights_B\n",
    "\n",
    "df_B.index=['s7','s8','s9','s10','s11']\n",
    "df_B['Gender'] = ['F','M','F','F','M']\n",
    "\n",
    "df = pd.concat([df_AA,df_B])\n",
    "print(df)"
   ]
  },
  {
   "cell_type": "code",
   "execution_count": null,
   "id": "48695159-8c7e-47b4-b252-9ae71cb84228",
   "metadata": {},
   "outputs": [],
   "source": []
  },
  {
   "cell_type": "markdown",
   "id": "781e81ee-635d-4d5d-9da4-69e4ea61fb8c",
   "metadata": {},
   "source": [
    "## Python Pandas | 8 | Data Merging 2"
   ]
  },
  {
   "cell_type": "markdown",
   "id": "2ba2df32-4664-4f85-974a-e898ce8218dd",
   "metadata": {},
   "source": [
    "### Method 1 - Failed"
   ]
  },
  {
   "cell_type": "code",
   "execution_count": 30,
   "id": "b6c72c59-6bc0-4085-8a61-8f5d86da24ea",
   "metadata": {},
   "outputs": [
    {
     "name": "stdout",
     "output_type": "stream",
     "text": [
      "   nameid     name   product\n",
      "0     103  Person3      Vivo\n",
      "1     108  Person8    iPhone\n",
      "2     108  Person8     Nokia\n",
      "3     108  Person8  Micromax\n"
     ]
    }
   ],
   "source": [
    "# Task 1\n",
    "import pandas as pd\n",
    "import numpy as np\n",
    "\n",
    "nameid = pd.Series(range(101, 111))\n",
    "name = pd.Series('Person' + str(i) for i in range(1, 11))\n",
    "# print(nameid)\n",
    "# print(name)\n",
    "\n",
    "master = pd.DataFrame({'nameid': nameid, 'name': name})\n",
    "# print(master)\n",
    "\n",
    "transaction = pd.DataFrame({'nameid': [108, 108, 108, 103],\n",
    "                           'product': ['iPhone', 'Nokia', 'Micromax', 'Vivo']})\n",
    "# print(transaction)\n",
    "\n",
    "mdf = pd.merge(master, transaction, on='nameid')\n",
    "print(mdf)"
   ]
  },
  {
   "cell_type": "code",
   "execution_count": null,
   "id": "3fd80acd-9cc0-4cb1-9637-0d80311b1862",
   "metadata": {},
   "outputs": [],
   "source": []
  },
  {
   "cell_type": "markdown",
   "id": "37d4fc3e-f8fb-4f3f-b96b-b8f3f95d3048",
   "metadata": {},
   "source": [
    "### Method 2 - Passed"
   ]
  },
  {
   "cell_type": "code",
   "execution_count": 34,
   "id": "a1975f6c-3b35-4db9-ba69-f10be9914524",
   "metadata": {},
   "outputs": [
    {
     "name": "stdout",
     "output_type": "stream",
     "text": [
      "   nameid     name   product\n",
      "0     103  person3      Vivo\n",
      "1     108  person8    iPhone\n",
      "2     108  person8     Nokia\n",
      "3     108  person8  Micromax\n"
     ]
    }
   ],
   "source": [
    "import pandas as pd\n",
    "import numpy as np\n",
    "nameid = pd.Series(range(101,111))\n",
    "name = pd.Series(['person' + str(i) for i in range(1,11)])\n",
    "master = pd.DataFrame()\n",
    "master['nameid'] = nameid\n",
    "master['name'] = name\n",
    "transaction = pd.DataFrame({'nameid':[108,108,108,103],'product':['iPhone','Nokia','Micromax','Vivo']})\n",
    "mdf = pd.merge(master,transaction,on='nameid')\n",
    "print(mdf)"
   ]
  },
  {
   "cell_type": "code",
   "execution_count": null,
   "id": "d4eb2853-5349-4f1f-af80-f6bbf3bf45b7",
   "metadata": {},
   "outputs": [],
   "source": []
  },
  {
   "cell_type": "code",
   "execution_count": null,
   "id": "b7ced3d1-b5c4-439e-9fbf-bdb24e75b963",
   "metadata": {},
   "outputs": [],
   "source": []
  },
  {
   "cell_type": "markdown",
   "id": "026c4fc3-080d-4740-b9e9-f6b5f59dcb7f",
   "metadata": {},
   "source": [
    "# Quiz"
   ]
  },
  {
   "cell_type": "code",
   "execution_count": null,
   "id": "a30ebf8a-0b08-440e-b448-b7d68b139d12",
   "metadata": {},
   "outputs": [],
   "source": []
  },
  {
   "cell_type": "code",
   "execution_count": null,
   "id": "67085a6e-a211-40bf-96db-9183a2f3677e",
   "metadata": {},
   "outputs": [],
   "source": []
  },
  {
   "cell_type": "markdown",
   "id": "29a10502-13e8-4c7b-9d6b-7c719e103478",
   "metadata": {},
   "source": [
    "### Quiz on Data Merging"
   ]
  },
  {
   "cell_type": "code",
   "execution_count": null,
   "id": "4dd5ceb4-6923-4d42-958a-ea6c5cb1d577",
   "metadata": {},
   "outputs": [],
   "source": []
  },
  {
   "cell_type": "markdown",
   "id": "12f64eea-9696-46f9-8af5-2ab47475e51d",
   "metadata": {},
   "source": [
    "### Pandas Final Assessment"
   ]
  },
  {
   "cell_type": "code",
   "execution_count": 1,
   "id": "2e82beba-eb71-4575-b2f3-545d0f12e612",
   "metadata": {},
   "outputs": [
    {
     "data": {
      "text/html": [
       "<div>\n",
       "<style scoped>\n",
       "    .dataframe tbody tr th:only-of-type {\n",
       "        vertical-align: middle;\n",
       "    }\n",
       "\n",
       "    .dataframe tbody tr th {\n",
       "        vertical-align: top;\n",
       "    }\n",
       "\n",
       "    .dataframe thead th {\n",
       "        text-align: right;\n",
       "    }\n",
       "</style>\n",
       "<table border=\"1\" class=\"dataframe\">\n",
       "  <thead>\n",
       "    <tr style=\"text-align: right;\">\n",
       "      <th></th>\n",
       "      <th>A</th>\n",
       "      <th>B</th>\n",
       "    </tr>\n",
       "  </thead>\n",
       "  <tbody>\n",
       "    <tr>\n",
       "      <th>r1</th>\n",
       "      <td>34</td>\n",
       "      <td>12</td>\n",
       "    </tr>\n",
       "    <tr>\n",
       "      <th>r2</th>\n",
       "      <td>78</td>\n",
       "      <td>67</td>\n",
       "    </tr>\n",
       "    <tr>\n",
       "      <th>r3</th>\n",
       "      <td>54</td>\n",
       "      <td>43</td>\n",
       "    </tr>\n",
       "  </tbody>\n",
       "</table>\n",
       "</div>"
      ],
      "text/plain": [
       "     A   B\n",
       "r1  34  12\n",
       "r2  78  67\n",
       "r3  54  43"
      ]
     },
     "execution_count": 1,
     "metadata": {},
     "output_type": "execute_result"
    }
   ],
   "source": [
    "import pandas as pd\n",
    "\n",
    "df = pd.DataFrame({'A':[34, 78, 54], 'B':[12, 67, 43]}, index=['r1', 'r2', 'r3'])\n",
    "df"
   ]
  },
  {
   "cell_type": "code",
   "execution_count": 3,
   "id": "b904bdab-9ac7-46d8-ad61-0ac5c967905a",
   "metadata": {},
   "outputs": [
    {
     "data": {
      "text/plain": [
       "A    78\n",
       "B    67\n",
       "Name: r2, dtype: int64"
      ]
     },
     "execution_count": 3,
     "metadata": {},
     "output_type": "execute_result"
    }
   ],
   "source": [
    "df.iloc[1]"
   ]
  },
  {
   "cell_type": "code",
   "execution_count": 4,
   "id": "49596078-a403-4417-9ac6-e4b7cc274589",
   "metadata": {},
   "outputs": [
    {
     "data": {
      "text/html": [
       "<div>\n",
       "<style scoped>\n",
       "    .dataframe tbody tr th:only-of-type {\n",
       "        vertical-align: middle;\n",
       "    }\n",
       "\n",
       "    .dataframe tbody tr th {\n",
       "        vertical-align: top;\n",
       "    }\n",
       "\n",
       "    .dataframe thead th {\n",
       "        text-align: right;\n",
       "    }\n",
       "</style>\n",
       "<table border=\"1\" class=\"dataframe\">\n",
       "  <thead>\n",
       "    <tr style=\"text-align: right;\">\n",
       "      <th></th>\n",
       "      <th>A</th>\n",
       "      <th>B</th>\n",
       "      <th>C</th>\n",
       "    </tr>\n",
       "  </thead>\n",
       "  <tbody>\n",
       "    <tr>\n",
       "      <th>r1</th>\n",
       "      <td>34</td>\n",
       "      <td>12</td>\n",
       "      <td>12</td>\n",
       "    </tr>\n",
       "    <tr>\n",
       "      <th>r2</th>\n",
       "      <td>78</td>\n",
       "      <td>67</td>\n",
       "      <td>23</td>\n",
       "    </tr>\n",
       "    <tr>\n",
       "      <th>r3</th>\n",
       "      <td>54</td>\n",
       "      <td>43</td>\n",
       "      <td>45</td>\n",
       "    </tr>\n",
       "  </tbody>\n",
       "</table>\n",
       "</div>"
      ],
      "text/plain": [
       "     A   B   C\n",
       "r1  34  12  12\n",
       "r2  78  67  23\n",
       "r3  54  43  45"
      ]
     },
     "execution_count": 4,
     "metadata": {},
     "output_type": "execute_result"
    }
   ],
   "source": [
    "df['C'] = [12, 23, 45]\n",
    "df"
   ]
  },
  {
   "cell_type": "code",
   "execution_count": 5,
   "id": "a1f59b80-7ad4-4748-ace2-bda8f4944cee",
   "metadata": {},
   "outputs": [
    {
     "data": {
      "text/plain": [
       "a    89.2\n",
       "b    76.4\n",
       "c    98.2\n",
       "d    75.9\n",
       "dtype: float64"
      ]
     },
     "execution_count": 5,
     "metadata": {},
     "output_type": "execute_result"
    }
   ],
   "source": [
    "s = pd.Series([89.2, 76.4, 98.2, 75.9], index=list('abcd'))\n",
    "s"
   ]
  },
  {
   "cell_type": "code",
   "execution_count": 6,
   "id": "8b16238c-60a9-42b3-a684-efb47c93cf42",
   "metadata": {},
   "outputs": [
    {
     "data": {
      "text/plain": [
       "True"
      ]
     },
     "execution_count": 6,
     "metadata": {},
     "output_type": "execute_result"
    }
   ],
   "source": [
    "'b' in s"
   ]
  },
  {
   "cell_type": "code",
   "execution_count": 12,
   "id": "79704766-5a1e-4071-a0b2-d0429d3759b4",
   "metadata": {},
   "outputs": [
    {
     "data": {
      "text/html": [
       "<div>\n",
       "<style scoped>\n",
       "    .dataframe tbody tr th:only-of-type {\n",
       "        vertical-align: middle;\n",
       "    }\n",
       "\n",
       "    .dataframe tbody tr th {\n",
       "        vertical-align: top;\n",
       "    }\n",
       "\n",
       "    .dataframe thead th {\n",
       "        text-align: right;\n",
       "    }\n",
       "</style>\n",
       "<table border=\"1\" class=\"dataframe\">\n",
       "  <thead>\n",
       "    <tr style=\"text-align: right;\">\n",
       "      <th></th>\n",
       "      <th>A</th>\n",
       "      <th>B</th>\n",
       "    </tr>\n",
       "  </thead>\n",
       "  <tbody>\n",
       "    <tr>\n",
       "      <th>r1</th>\n",
       "      <td>34</td>\n",
       "      <td>12</td>\n",
       "    </tr>\n",
       "    <tr>\n",
       "      <th>r2</th>\n",
       "      <td>78</td>\n",
       "      <td>67</td>\n",
       "    </tr>\n",
       "    <tr>\n",
       "      <th>r3</th>\n",
       "      <td>54</td>\n",
       "      <td>43</td>\n",
       "    </tr>\n",
       "  </tbody>\n",
       "</table>\n",
       "</div>"
      ],
      "text/plain": [
       "     A   B\n",
       "r1  34  12\n",
       "r2  78  67\n",
       "r3  54  43"
      ]
     },
     "execution_count": 12,
     "metadata": {},
     "output_type": "execute_result"
    }
   ],
   "source": [
    "import pandas as pd\n",
    "\n",
    "df = pd.DataFrame({'A':[34, 78, 54], 'B':[12, 67, 43]}, index=['r1', 'r2', 'r3'])\n",
    "df"
   ]
  },
  {
   "cell_type": "code",
   "execution_count": 8,
   "id": "1084ca12-9748-4598-9767-f4507c801020",
   "metadata": {},
   "outputs": [
    {
     "data": {
      "text/html": [
       "<div>\n",
       "<style scoped>\n",
       "    .dataframe tbody tr th:only-of-type {\n",
       "        vertical-align: middle;\n",
       "    }\n",
       "\n",
       "    .dataframe tbody tr th {\n",
       "        vertical-align: top;\n",
       "    }\n",
       "\n",
       "    .dataframe thead th {\n",
       "        text-align: right;\n",
       "    }\n",
       "</style>\n",
       "<table border=\"1\" class=\"dataframe\">\n",
       "  <thead>\n",
       "    <tr style=\"text-align: right;\">\n",
       "      <th></th>\n",
       "      <th>A</th>\n",
       "      <th>B</th>\n",
       "    </tr>\n",
       "  </thead>\n",
       "  <tbody>\n",
       "    <tr>\n",
       "      <th>r1</th>\n",
       "      <td>34</td>\n",
       "      <td>12</td>\n",
       "    </tr>\n",
       "    <tr>\n",
       "      <th>r2</th>\n",
       "      <td>78</td>\n",
       "      <td>67</td>\n",
       "    </tr>\n",
       "  </tbody>\n",
       "</table>\n",
       "</div>"
      ],
      "text/plain": [
       "     A   B\n",
       "r1  34  12\n",
       "r2  78  67"
      ]
     },
     "execution_count": 8,
     "metadata": {},
     "output_type": "execute_result"
    }
   ],
   "source": [
    "df.iloc[:2]"
   ]
  },
  {
   "cell_type": "code",
   "execution_count": 13,
   "id": "7c6bd1ca-b653-4b1c-8137-9fad6b570160",
   "metadata": {},
   "outputs": [
    {
     "data": {
      "text/html": [
       "<div>\n",
       "<style scoped>\n",
       "    .dataframe tbody tr th:only-of-type {\n",
       "        vertical-align: middle;\n",
       "    }\n",
       "\n",
       "    .dataframe tbody tr th {\n",
       "        vertical-align: top;\n",
       "    }\n",
       "\n",
       "    .dataframe thead th {\n",
       "        text-align: right;\n",
       "    }\n",
       "</style>\n",
       "<table border=\"1\" class=\"dataframe\">\n",
       "  <thead>\n",
       "    <tr style=\"text-align: right;\">\n",
       "      <th></th>\n",
       "      <th>A</th>\n",
       "      <th>B</th>\n",
       "    </tr>\n",
       "  </thead>\n",
       "  <tbody>\n",
       "    <tr>\n",
       "      <th>r3</th>\n",
       "      <td>54</td>\n",
       "      <td>43</td>\n",
       "    </tr>\n",
       "  </tbody>\n",
       "</table>\n",
       "</div>"
      ],
      "text/plain": [
       "     A   B\n",
       "r3  54  43"
      ]
     },
     "execution_count": 13,
     "metadata": {},
     "output_type": "execute_result"
    }
   ],
   "source": [
    "df[lambda x : x.index.str.endswith('3')]"
   ]
  },
  {
   "cell_type": "code",
   "execution_count": 9,
   "id": "c7db7425-1976-4a4e-b7e9-862d8c4da2ca",
   "metadata": {},
   "outputs": [
    {
     "data": {
      "text/html": [
       "<div>\n",
       "<style scoped>\n",
       "    .dataframe tbody tr th:only-of-type {\n",
       "        vertical-align: middle;\n",
       "    }\n",
       "\n",
       "    .dataframe tbody tr th {\n",
       "        vertical-align: top;\n",
       "    }\n",
       "\n",
       "    .dataframe thead th {\n",
       "        text-align: right;\n",
       "    }\n",
       "</style>\n",
       "<table border=\"1\" class=\"dataframe\">\n",
       "  <thead>\n",
       "    <tr style=\"text-align: right;\">\n",
       "      <th></th>\n",
       "      <th>a</th>\n",
       "      <th>b</th>\n",
       "    </tr>\n",
       "  </thead>\n",
       "  <tbody>\n",
       "    <tr>\n",
       "      <th>0</th>\n",
       "      <td>1</td>\n",
       "      <td>2</td>\n",
       "    </tr>\n",
       "    <tr>\n",
       "      <th>1</th>\n",
       "      <td>5</td>\n",
       "      <td>10</td>\n",
       "    </tr>\n",
       "  </tbody>\n",
       "</table>\n",
       "</div>"
      ],
      "text/plain": [
       "   a   b\n",
       "0  1   2\n",
       "1  5  10"
      ]
     },
     "execution_count": 9,
     "metadata": {},
     "output_type": "execute_result"
    }
   ],
   "source": [
    "import pandas as pd\n",
    "\n",
    "data = [{'a': 1, 'b': 2}, {'a': 5, 'b': 10, 'c': 20}]\n",
    "df = pd.DataFrame(data, columns=['a', 'b'])\n",
    "df"
   ]
  },
  {
   "cell_type": "code",
   "execution_count": 10,
   "id": "3e83a8d5-aae7-488c-854c-3e3b16a609bf",
   "metadata": {},
   "outputs": [
    {
     "data": {
      "text/plain": [
       "(2, 2)"
      ]
     },
     "execution_count": 10,
     "metadata": {},
     "output_type": "execute_result"
    }
   ],
   "source": [
    "df.shape"
   ]
  },
  {
   "cell_type": "code",
   "execution_count": 14,
   "id": "4ad7351e-de14-4477-93ae-8596e52e421f",
   "metadata": {},
   "outputs": [
    {
     "data": {
      "text/html": [
       "<div>\n",
       "<style scoped>\n",
       "    .dataframe tbody tr th:only-of-type {\n",
       "        vertical-align: middle;\n",
       "    }\n",
       "\n",
       "    .dataframe tbody tr th {\n",
       "        vertical-align: top;\n",
       "    }\n",
       "\n",
       "    .dataframe thead th {\n",
       "        text-align: right;\n",
       "    }\n",
       "</style>\n",
       "<table border=\"1\" class=\"dataframe\">\n",
       "  <thead>\n",
       "    <tr style=\"text-align: right;\">\n",
       "      <th></th>\n",
       "      <th>a</th>\n",
       "      <th>b</th>\n",
       "      <th>c</th>\n",
       "    </tr>\n",
       "  </thead>\n",
       "  <tbody>\n",
       "    <tr>\n",
       "      <th>0</th>\n",
       "      <td>1</td>\n",
       "      <td>2</td>\n",
       "      <td>NaN</td>\n",
       "    </tr>\n",
       "    <tr>\n",
       "      <th>1</th>\n",
       "      <td>5</td>\n",
       "      <td>10</td>\n",
       "      <td>20.0</td>\n",
       "    </tr>\n",
       "  </tbody>\n",
       "</table>\n",
       "</div>"
      ],
      "text/plain": [
       "   a   b     c\n",
       "0  1   2   NaN\n",
       "1  5  10  20.0"
      ]
     },
     "execution_count": 14,
     "metadata": {},
     "output_type": "execute_result"
    }
   ],
   "source": [
    "import pandas as pd\n",
    "\n",
    "data = [{'a': 1, 'b': 2}, {'a': 5, 'b': 10, 'c': 20}]\n",
    "df = pd.DataFrame(data)\n",
    "df"
   ]
  },
  {
   "cell_type": "code",
   "execution_count": 15,
   "id": "7afca369-6ad5-4bec-bb75-2604eeece0aa",
   "metadata": {},
   "outputs": [
    {
     "data": {
      "text/plain": [
       "(2, 3)"
      ]
     },
     "execution_count": 15,
     "metadata": {},
     "output_type": "execute_result"
    }
   ],
   "source": [
    "df.shape"
   ]
  },
  {
   "cell_type": "code",
   "execution_count": 16,
   "id": "90294716-b5cc-471b-a406-efe5137c3034",
   "metadata": {},
   "outputs": [
    {
     "data": {
      "text/plain": [
       "DatetimeIndex(['2017-09-11', '2017-09-13', '2017-09-15', '2017-09-17'], dtype='datetime64[ns]', freq='2D')"
      ]
     },
     "execution_count": 16,
     "metadata": {},
     "output_type": "execute_result"
    }
   ],
   "source": [
    "pd.date_range('11-Sep-2017', '17-Sep-2017', freq='2D')"
   ]
  },
  {
   "cell_type": "code",
   "execution_count": 17,
   "id": "51b8cf7a-be21-46e1-927e-702e784e4598",
   "metadata": {},
   "outputs": [
    {
     "name": "stderr",
     "output_type": "stream",
     "text": [
      "C:\\Users\\abdur\\AppData\\Local\\Temp\\ipykernel_13104\\2725895699.py:4: UserWarning: Parsing '15-09-2017' in DD/MM/YYYY format. Provide format or specify infer_datetime_format=True for consistent parsing.\n",
      "  len(d[d.isin(pd.to_datetime(['12-09-2017', '15-09-2017']))])\n"
     ]
    },
    {
     "data": {
      "text/plain": [
       "1"
      ]
     },
     "execution_count": 17,
     "metadata": {},
     "output_type": "execute_result"
    }
   ],
   "source": [
    "import pandas as pd\n",
    "\n",
    "d = pd.date_range('11-Sep-2017', '17-Sep-2017', freq='2D')\n",
    "len(d[d.isin(pd.to_datetime(['12-09-2017', '15-09-2017']))])"
   ]
  },
  {
   "cell_type": "code",
   "execution_count": 18,
   "id": "0cedc6f7-d20d-4615-b9ef-c3306a44f260",
   "metadata": {},
   "outputs": [
    {
     "data": {
      "text/plain": [
       "PeriodIndex(['2017-09'], dtype='period[M]')"
      ]
     },
     "execution_count": 18,
     "metadata": {},
     "output_type": "execute_result"
    }
   ],
   "source": [
    "pd.period_range('11-Sep-2017', '17-Sep-2017', freq='M')"
   ]
  },
  {
   "cell_type": "code",
   "execution_count": null,
   "id": "0f7f301c-c0e8-4c43-9cb1-67f7b64c4730",
   "metadata": {},
   "outputs": [],
   "source": []
  }
 ],
 "metadata": {
  "kernelspec": {
   "display_name": "Python 3 (ipykernel)",
   "language": "python",
   "name": "python3"
  },
  "language_info": {
   "codemirror_mode": {
    "name": "ipython",
    "version": 3
   },
   "file_extension": ".py",
   "mimetype": "text/x-python",
   "name": "python",
   "nbconvert_exporter": "python",
   "pygments_lexer": "ipython3",
   "version": "3.9.12"
  }
 },
 "nbformat": 4,
 "nbformat_minor": 5
}
