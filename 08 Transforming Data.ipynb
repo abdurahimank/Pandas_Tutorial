{
 "cells": [
  {
   "cell_type": "markdown",
   "id": "df9858e7-f0fb-4ddf-b01b-bd7999556b96",
   "metadata": {},
   "source": [
    "# Transforming data based on conditions\n",
    "#### Table of Contents\n",
    "1. \n",
    "2. "
   ]
  },
  {
   "cell_type": "code",
   "execution_count": 4,
   "id": "9a4f5265-109f-4980-9c83-1f8f9d3b1ccc",
   "metadata": {},
   "outputs": [],
   "source": [
    "import pandas as pd\n",
    "import numpy as np"
   ]
  },
  {
   "cell_type": "code",
   "execution_count": 6,
   "id": "5361128f-11fb-4b3a-9702-a3dc362e41b7",
   "metadata": {},
   "outputs": [
    {
     "name": "stdout",
     "output_type": "stream",
     "text": [
      "  location        rain       temp\n",
      "0        A  147.618695  25.798590\n",
      "1        A   92.236290  29.116747\n"
     ]
    }
   ],
   "source": [
    "df = pd.DataFrame({'location':list('AAAAABBBBB'),\n",
    "                   'rain':pd.Series(100 + 50*np.random.randn(10)),\n",
    "                   'temp':pd.Series(28 + 10*np.random.randn(10))\n",
    "})\n",
    "print(df.head(2))"
   ]
  },
  {
   "cell_type": "code",
   "execution_count": 7,
   "id": "986203ec-27f1-4617-81b1-d83dd1bd5ba4",
   "metadata": {},
   "outputs": [
    {
     "name": "stdout",
     "output_type": "stream",
     "text": [
      "    location        rain       temp\n",
      "0  Hyderabad  147.618695  25.798590\n",
      "1  Hyderabad   92.236290  29.116747\n"
     ]
    }
   ],
   "source": [
    "replacements = {\n",
    "'location': {'A':'Hyderabad', 'B':'Mumbai'}\n",
    "}\n",
    "df = df.replace(replacements, regex=True)\n",
    "print(df.head(2))"
   ]
  },
  {
   "cell_type": "code",
   "execution_count": null,
   "id": "92d4597f-f55b-41bd-a3a9-1ab3370d27fa",
   "metadata": {},
   "outputs": [],
   "source": []
  }
 ],
 "metadata": {
  "kernelspec": {
   "display_name": "Python 3 (ipykernel)",
   "language": "python",
   "name": "python3"
  },
  "language_info": {
   "codemirror_mode": {
    "name": "ipython",
    "version": 3
   },
   "file_extension": ".py",
   "mimetype": "text/x-python",
   "name": "python",
   "nbconvert_exporter": "python",
   "pygments_lexer": "ipython3",
   "version": "3.9.12"
  }
 },
 "nbformat": 4,
 "nbformat_minor": 5
}
