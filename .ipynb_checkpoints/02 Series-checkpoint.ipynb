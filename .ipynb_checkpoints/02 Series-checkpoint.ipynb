{
 "cells": [
  {
   "cell_type": "markdown",
   "id": "6d828190-d650-4ea2-8c8d-9604029f0f29",
   "metadata": {},
   "source": [
    "# Series\n",
    "#### Table of Contents\n",
    "- Basics\n",
    "- Creating a Series\n",
    "- Series Attributes\n",
    "- Accessing Elements from Series\n",
    "- Modifying a Series\n",
    "- Other Methods on Series"
   ]
  },
  {
   "cell_type": "markdown",
   "id": "df3070ff",
   "metadata": {},
   "source": [
    "## Basics\n",
    "* A Pandas Series is like a column in a table.\n",
    "* Series is a 1-D array, holding data values of a single variable, captured from multiple observations.\n",
    "![Pandas_1](https://github.com/abdurahimank/Pandas_Tutorial/blob/main/images/Pandas_1.png?raw=true)"
   ]
  },
  {
   "cell_type": "markdown",
   "id": "ee09ab97-dab9-40f7-a47f-5cb09ce11b9f",
   "metadata": {},
   "source": [
    "#### Series Attributes and Methods\n",
    "Pandas Series come with various attributes and methods to help you manipulate and analyze data effectively. <br>Here are a few essential ones:\n",
    "\n",
    "- **values**: Returns the Series data as a NumPy array.\n",
    "- **index**: Returns the index (labels) of the Series.\n",
    "- **shape**: Returns a tuple representing the dimensions of the Series.\n",
    "- **size**: Returns the number of elements in the Series.\n",
    "- **mean()**, **sum()**, **min()**, **max()**: Calculate summary statistics of the data.\n",
    "- **unique()**, **nunique()**: Get unique values or the number of unique values.\n",
    "- **sort_values()**, **sort_index()**: Sort the Series by values or index labels.\n",
    "- **isnull()**, **notnull()**: Check for missing (NaN) or non-missing values.\n",
    "- **apply()**: Apply a custom function to each element of the Series."
   ]
  },
  {
   "cell_type": "code",
   "execution_count": 2,
   "id": "d97e945f-8472-4f10-ba82-97558644fca1",
   "metadata": {},
   "outputs": [],
   "source": [
    "import pandas as pd"
   ]
  },
  {
   "cell_type": "markdown",
   "id": "031bbfcf-5ae7-4565-86ff-6a2b702c8e4d",
   "metadata": {},
   "source": [
    "## Creating a Series"
   ]
  },
  {
   "cell_type": "markdown",
   "id": "4f9b2e84",
   "metadata": {},
   "source": [
    "**Creating Series from Lists and Tuples**"
   ]
  },
  {
   "cell_type": "code",
   "execution_count": 2,
   "id": "1f13b72e",
   "metadata": {},
   "outputs": [
    {
     "data": {
      "text/plain": [
       "0    35.46\n",
       "1    78.89\n",
       "2    34.23\n",
       "3    97.12\n",
       "4    15.78\n",
       "dtype: float64"
      ]
     },
     "execution_count": 2,
     "metadata": {},
     "output_type": "execute_result"
    }
   ],
   "source": [
    "a = pd.Series([35.46, 78.89, 34.23, 97.12, 15.78])\n",
    "a"
   ]
  },
  {
   "cell_type": "markdown",
   "id": "31b0031d",
   "metadata": {},
   "source": [
    "**Key/Value Objects as Series**\n",
    "* You can also use a key/value object, like a dictionary, when creating a Series.\n",
    "* The keys of the dictionary become the labels."
   ]
  },
  {
   "cell_type": "code",
   "execution_count": 13,
   "id": "1a46e77c",
   "metadata": {},
   "outputs": [
    {
     "name": "stdout",
     "output_type": "stream",
     "text": [
      "day1    420\n",
      "day2    380\n",
      "day3    390\n",
      "dtype: int64\n"
     ]
    }
   ],
   "source": [
    "import pandas as pd\n",
    "calories = {\"day1\": 420, \"day2\": 380, \"day3\": 390}\n",
    "myvar = pd.Series(calories)\n",
    "print(myvar)"
   ]
  },
  {
   "cell_type": "code",
   "execution_count": 12,
   "id": "5e309e67",
   "metadata": {},
   "outputs": [
    {
     "name": "stdout",
     "output_type": "stream",
     "text": [
      "day1    420\n",
      "day2    380\n",
      "dtype: int64\n"
     ]
    }
   ],
   "source": [
    "# Selecting specific objects\n",
    "import pandas as pd\n",
    "calories = {\"day1\": 420, \"day2\": 380, \"day3\": 390}\n",
    "myvar = pd.Series(calories, index = [\"day1\", \"day2\"])\n",
    "print(myvar)"
   ]
  },
  {
   "cell_type": "code",
   "execution_count": null,
   "id": "6fb82c63",
   "metadata": {},
   "outputs": [],
   "source": []
  },
  {
   "cell_type": "code",
   "execution_count": null,
   "id": "8e96bb32",
   "metadata": {},
   "outputs": [],
   "source": []
  },
  {
   "cell_type": "markdown",
   "id": "30cca658",
   "metadata": {},
   "source": [
    "#### Labels\n",
    "- If nothing else is specified, the values are labeled with their index number. First value has index 0, second value has index 1 etc."
   ]
  },
  {
   "cell_type": "code",
   "execution_count": 3,
   "id": "24447572",
   "metadata": {},
   "outputs": [
    {
     "name": "stdout",
     "output_type": "stream",
     "text": [
      "0    35.46\n",
      "1    78.89\n",
      "2    34.23\n",
      "3    97.12\n",
      "4    15.78\n",
      "dtype: float64\n",
      "35.46\n"
     ]
    }
   ],
   "source": [
    "a = pd.Series([35.46, 78.89, 34.23, 97.12, 15.78])\n",
    "print(a)\n",
    "print(a[0])"
   ]
  },
  {
   "cell_type": "markdown",
   "id": "a98f2e56",
   "metadata": {},
   "source": [
    "* With the ```index``` argument, you can name your own labels.\n",
    "* When you have created labels, you can access an item by referring to the label."
   ]
  },
  {
   "cell_type": "code",
   "execution_count": 4,
   "id": "66568004-bce1-4800-9e6f-ae55694602c8",
   "metadata": {},
   "outputs": [
    {
     "name": "stdout",
     "output_type": "stream",
     "text": [
      "Brasil    35.46\n",
      "Russia    78.89\n",
      "India     34.23\n",
      "China     97.12\n",
      "SA        15.78\n",
      "dtype: float64\n",
      "78.89\n"
     ]
    }
   ],
   "source": [
    "# using index when creting series\n",
    "a = pd.Series([35.46, 78.89, 34.23, 97.12, 15.78], index = [\"Brasil\", \"Russia\", \"India\", \n",
    "                                                            \"China\", \"SA\"])\n",
    "print(a)\n",
    "print(a[\"Russia\"])"
   ]
  },
  {
   "cell_type": "code",
   "execution_count": 5,
   "id": "3b9574f2",
   "metadata": {},
   "outputs": [
    {
     "name": "stdout",
     "output_type": "stream",
     "text": [
      "0    35.46\n",
      "1    78.89\n",
      "2    34.23\n",
      "3    97.12\n",
      "4    15.78\n",
      "dtype: float64\n",
      "Brasil    35.46\n",
      "Russia    78.89\n",
      "India     34.23\n",
      "China     97.12\n",
      "SA        15.78\n",
      "dtype: float64\n",
      "78.89\n"
     ]
    }
   ],
   "source": [
    "# using index after creating series\n",
    "a = pd.Series([35.46, 78.89, 34.23, 97.12, 15.78])\n",
    "print(a)\n",
    "a.index = [\"Brasil\", \n",
    "          \"Russia\", \n",
    "          \"India\",\n",
    "          \"China\",\n",
    "          \"SA\"]\n",
    "print(a)\n",
    "print(a[\"Russia\"])"
   ]
  },
  {
   "cell_type": "markdown",
   "id": "64a07d9f-65c1-40bb-a58b-b22fe1190a52",
   "metadata": {},
   "source": [
    "## Series Attributes"
   ]
  },
  {
   "cell_type": "markdown",
   "id": "7a529fdb-fa34-4641-a98c-80fbfe6595aa",
   "metadata": {},
   "source": [
    "#### name\n",
    "giving name to a series"
   ]
  },
  {
   "cell_type": "code",
   "execution_count": 6,
   "id": "88de4d09",
   "metadata": {},
   "outputs": [
    {
     "data": {
      "text/plain": [
       "Brasil    35.46\n",
       "Russia    78.89\n",
       "India     34.23\n",
       "China     97.12\n",
       "SA        15.78\n",
       "Name: G7 Population in millions, dtype: float64"
      ]
     },
     "execution_count": 6,
     "metadata": {},
     "output_type": "execute_result"
    }
   ],
   "source": [
    "a.name = \"G7 Population in millions\"\n",
    "a"
   ]
  },
  {
   "cell_type": "code",
   "execution_count": 7,
   "id": "acdf1101-6a78-4cd1-a936-e384ca1e3384",
   "metadata": {},
   "outputs": [
    {
     "data": {
      "text/plain": [
       "'G7 Population in millions'"
      ]
     },
     "execution_count": 7,
     "metadata": {},
     "output_type": "execute_result"
    }
   ],
   "source": [
    "a.name"
   ]
  },
  {
   "cell_type": "markdown",
   "id": "d93932d2-2ca8-4244-9a24-e6d972cbe50f",
   "metadata": {},
   "source": [
    "#### type of elements\n",
    "- ```dtype```"
   ]
  },
  {
   "cell_type": "code",
   "execution_count": 8,
   "id": "87e98a2c",
   "metadata": {},
   "outputs": [
    {
     "data": {
      "text/plain": [
       "dtype('float64')"
      ]
     },
     "execution_count": 8,
     "metadata": {},
     "output_type": "execute_result"
    }
   ],
   "source": [
    "a.dtype"
   ]
  },
  {
   "cell_type": "code",
   "execution_count": 6,
   "id": "f0ad7772",
   "metadata": {},
   "outputs": [
    {
     "data": {
      "text/plain": [
       "array([35.46, 78.89, 34.23, 97.12, 15.78])"
      ]
     },
     "execution_count": 6,
     "metadata": {},
     "output_type": "execute_result"
    }
   ],
   "source": [
    "a.values"
   ]
  },
  {
   "cell_type": "code",
   "execution_count": 7,
   "id": "9e786113",
   "metadata": {},
   "outputs": [
    {
     "data": {
      "text/plain": [
       "numpy.ndarray"
      ]
     },
     "execution_count": 7,
     "metadata": {},
     "output_type": "execute_result"
    }
   ],
   "source": [
    "type(a.values)"
   ]
  },
  {
   "cell_type": "code",
   "execution_count": 8,
   "id": "2aa06842",
   "metadata": {},
   "outputs": [
    {
     "data": {
      "text/plain": [
       "'G7 Population in millions'"
      ]
     },
     "execution_count": 8,
     "metadata": {},
     "output_type": "execute_result"
    }
   ],
   "source": [
    "a.name"
   ]
  },
  {
   "cell_type": "code",
   "execution_count": 9,
   "id": "ab5ec23a",
   "metadata": {},
   "outputs": [
    {
     "data": {
      "text/plain": [
       "Index(['Brasil', 'Russia', 'India', 'China', 'SA'], dtype='object')"
      ]
     },
     "execution_count": 9,
     "metadata": {},
     "output_type": "execute_result"
    }
   ],
   "source": [
    "a.index"
   ]
  },
  {
   "cell_type": "code",
   "execution_count": null,
   "id": "2f08516f",
   "metadata": {},
   "outputs": [],
   "source": []
  },
  {
   "cell_type": "code",
   "execution_count": 10,
   "id": "1b869559",
   "metadata": {},
   "outputs": [
    {
     "data": {
      "text/plain": [
       "Tom      8\n",
       "Kris     2\n",
       "Ahmad    5\n",
       "Beau     6\n",
       "dtype: int64"
      ]
     },
     "execution_count": 10,
     "metadata": {},
     "output_type": "execute_result"
    }
   ],
   "source": [
    "import pandas as pd\n",
    "certificates_earned = pd.Series([8, 2, 5, 6], index=['Tom', 'Kris', 'Ahmad', 'Beau'])\n",
    "certificates_earned"
   ]
  },
  {
   "cell_type": "markdown",
   "id": "98e40497",
   "metadata": {},
   "source": [
    "## Accessing Elements from Series\n",
    "- ```seriesname[index value]```\n",
    "- ```seriesname[label name]```\n",
    "- ```loc``` - label based\n",
    "- ```iloc``` - integer index based"
   ]
  },
  {
   "cell_type": "code",
   "execution_count": 13,
   "id": "04cbb2ff",
   "metadata": {},
   "outputs": [
    {
     "data": {
      "text/plain": [
       "Brasil    35.46\n",
       "Russia    78.89\n",
       "India     34.23\n",
       "China     97.12\n",
       "SA        15.78\n",
       "Name: Brics Nations GDP, dtype: float64"
      ]
     },
     "execution_count": 13,
     "metadata": {},
     "output_type": "execute_result"
    }
   ],
   "source": [
    "a = pd.Series([35.46, 78.89, 34.23, 97.12, 15.78], \n",
    "             index = [\"Brasil\", \"Russia\", \"India\", \"China\", \"SA\"], name = \"Brics Nations GDP\")\n",
    "a"
   ]
  },
  {
   "cell_type": "code",
   "execution_count": 16,
   "id": "2aae1ee4",
   "metadata": {},
   "outputs": [
    {
     "name": "stdout",
     "output_type": "stream",
     "text": [
      "34.23\n"
     ]
    }
   ],
   "source": [
    "# accessing by index\n",
    "print(a[2])"
   ]
  },
  {
   "cell_type": "code",
   "execution_count": 11,
   "id": "d0297afb",
   "metadata": {},
   "outputs": [
    {
     "name": "stdout",
     "output_type": "stream",
     "text": [
      "97.12\n"
     ]
    }
   ],
   "source": [
    "# accessing by index name\n",
    "print(a[\"China\"])"
   ]
  },
  {
   "cell_type": "code",
   "execution_count": 12,
   "id": "80c47eca",
   "metadata": {},
   "outputs": [
    {
     "name": "stdout",
     "output_type": "stream",
     "text": [
      "15.78\n"
     ]
    }
   ],
   "source": [
    "# with \"iloc\" attribute\n",
    "print(a.iloc[4])"
   ]
  },
  {
   "cell_type": "code",
   "execution_count": 18,
   "id": "d127cbe0",
   "metadata": {},
   "outputs": [
    {
     "name": "stdout",
     "output_type": "stream",
     "text": [
      "India    34.23\n",
      "China    97.12\n",
      "Name: Brics Nations GDP, dtype: float64\n"
     ]
    }
   ],
   "source": [
    "# multiple elements with index name\n",
    "print(a[[\"India\", \"China\"]])"
   ]
  },
  {
   "cell_type": "code",
   "execution_count": 19,
   "id": "db18d12a",
   "metadata": {},
   "outputs": [
    {
     "name": "stdout",
     "output_type": "stream",
     "text": [
      "Brasil    35.46\n",
      "SA        15.78\n",
      "Name: Brics Nations GDP, dtype: float64\n"
     ]
    }
   ],
   "source": [
    "# multiple elements with \"iloc\"\n",
    "print(a.iloc[[0, 4]])"
   ]
  },
  {
   "cell_type": "markdown",
   "id": "ec35777f",
   "metadata": {},
   "source": [
    "#### Conditional Selection"
   ]
  },
  {
   "cell_type": "code",
   "execution_count": 21,
   "id": "ae7bf6f5",
   "metadata": {},
   "outputs": [
    {
     "data": {
      "text/plain": [
       "Brasil    35.46\n",
       "Russia    78.89\n",
       "India     34.23\n",
       "China     97.12\n",
       "SA        15.78\n",
       "Name: Brics Nations GDP, dtype: float64"
      ]
     },
     "execution_count": 21,
     "metadata": {},
     "output_type": "execute_result"
    }
   ],
   "source": [
    "a = pd.Series([35.46, 78.89, 34.23, 97.12, 15.78], \n",
    "             index = [\"Brasil\", \"Russia\", \"India\", \"China\", \"SA\"], name = \"Brics Nations GDP\")\n",
    "a"
   ]
  },
  {
   "cell_type": "code",
   "execution_count": 23,
   "id": "a3f20943",
   "metadata": {},
   "outputs": [
    {
     "data": {
      "text/plain": [
       "Russia    78.89\n",
       "China     97.12\n",
       "Name: Brics Nations GDP, dtype: float64"
      ]
     },
     "execution_count": 23,
     "metadata": {},
     "output_type": "execute_result"
    }
   ],
   "source": [
    "a[a > 50]"
   ]
  },
  {
   "cell_type": "markdown",
   "id": "8446f259",
   "metadata": {},
   "source": [
    "## Modifying a Series"
   ]
  },
  {
   "cell_type": "code",
   "execution_count": 24,
   "id": "2d850454",
   "metadata": {},
   "outputs": [
    {
     "data": {
      "text/plain": [
       "Brasil    35.46\n",
       "Russia    78.89\n",
       "India     34.23\n",
       "China     97.12\n",
       "SA        15.78\n",
       "Name: Brics Nations GDP, dtype: float64"
      ]
     },
     "execution_count": 24,
     "metadata": {},
     "output_type": "execute_result"
    }
   ],
   "source": [
    "a = pd.Series([35.46, 78.89, 34.23, 97.12, 15.78], \n",
    "             index = [\"Brasil\", \"Russia\", \"India\", \"China\", \"SA\"], name = \"Brics Nations GDP\")\n",
    "a"
   ]
  },
  {
   "cell_type": "code",
   "execution_count": 25,
   "id": "17be7b97",
   "metadata": {},
   "outputs": [
    {
     "data": {
      "text/plain": [
       "Brasil    50.00\n",
       "Russia    78.89\n",
       "India     34.23\n",
       "China     97.12\n",
       "SA        15.78\n",
       "Name: Brics Nations GDP, dtype: float64"
      ]
     },
     "execution_count": 25,
     "metadata": {},
     "output_type": "execute_result"
    }
   ],
   "source": [
    "a[\"Brasil\"] = 50\n",
    "a"
   ]
  },
  {
   "cell_type": "code",
   "execution_count": 26,
   "id": "0543f89d",
   "metadata": {},
   "outputs": [
    {
     "data": {
      "text/plain": [
       "Brasil    50.00\n",
       "Russia    78.89\n",
       "India     50.00\n",
       "China     97.12\n",
       "SA        50.00\n",
       "Name: Brics Nations GDP, dtype: float64"
      ]
     },
     "execution_count": 26,
     "metadata": {},
     "output_type": "execute_result"
    }
   ],
   "source": [
    "a[a < 50] = 50\n",
    "a"
   ]
  },
  {
   "cell_type": "markdown",
   "id": "c6d25cee",
   "metadata": {},
   "source": [
    "## Other Methods on Series"
   ]
  },
  {
   "cell_type": "code",
   "execution_count": null,
   "id": "a20f7936-15ff-445d-a54a-625e69d2a63d",
   "metadata": {},
   "outputs": [],
   "source": []
  }
 ],
 "metadata": {
  "kernelspec": {
   "display_name": "Python 3 (ipykernel)",
   "language": "python",
   "name": "python3"
  },
  "language_info": {
   "codemirror_mode": {
    "name": "ipython",
    "version": 3
   },
   "file_extension": ".py",
   "mimetype": "text/x-python",
   "name": "python",
   "nbconvert_exporter": "python",
   "pygments_lexer": "ipython3",
   "version": "3.9.12"
  }
 },
 "nbformat": 4,
 "nbformat_minor": 5
}
