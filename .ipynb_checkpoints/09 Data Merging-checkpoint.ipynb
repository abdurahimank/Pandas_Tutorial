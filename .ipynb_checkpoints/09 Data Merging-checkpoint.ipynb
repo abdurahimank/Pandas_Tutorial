{
 "cells": [
  {
   "cell_type": "markdown",
   "id": "361fd3a7-2edd-4ad8-b42d-e59a43abab50",
   "metadata": {},
   "source": [
    "# Data Merging\n",
    "#### Table of Contents\n",
    "1. Merging\n",
    "2. Joining\n",
    "3. Concatinating\n",
    "4. appending"
   ]
  },
  {
   "cell_type": "markdown",
   "id": "cad2e58f-db01-4568-b91a-973eaafa6404",
   "metadata": {},
   "source": [
    "## Basics\n",
    "- ```join()``` - use when index matters\n",
    "- ```merge()``` - use when index doesn't matters\n",
    "- ```concate()``` or ```append``` - "
   ]
  },
  {
   "cell_type": "code",
   "execution_count": 1,
   "id": "907de743-d71f-4a0e-8a53-5e37a7c407c1",
   "metadata": {},
   "outputs": [],
   "source": [
    "import pandas as pd"
   ]
  },
  {
   "cell_type": "markdown",
   "id": "1a1276d9-d9e5-408a-b203-eb4700d042e9",
   "metadata": {},
   "source": [
    "## Merging"
   ]
  },
  {
   "cell_type": "code",
   "execution_count": 2,
   "id": "93a06ee7-a4b9-4f0e-bcf4-34091d361843",
   "metadata": {},
   "outputs": [],
   "source": [
    "df1 = pd.DataFrame({'HPI' : [80, 85, 88, 85],\n",
    "                    'Int_rate' : [2, 3, 2, 2],\n",
    "                    'US_GDP' : [50, 55, 65, 55]}, \n",
    "                   index = [2001, 2002, 2003, 2004])\n",
    "\n",
    "df2 = pd.DataFrame({'HPI' : [80, 85, 88, 85],\n",
    "                    'Int_rate' : [2, 3, 2, 2],\n",
    "                    'US_GDP' : [50, 55, 65, 55]}, \n",
    "                   index = [2005, 2006, 2007, 2008])\n",
    "\n",
    "df3 = pd.DataFrame({'HPI' : [80, 85, 88, 85],\n",
    "                    'Unemployment' : [7, 8, 9, 6],\n",
    "                    'Low_tier_HPI' : [50, 52, 50, 53]}, \n",
    "                   index = [2001, 2002, 2003, 2004])"
   ]
  },
  {
   "cell_type": "code",
   "execution_count": 3,
   "id": "05b248b1-59c5-4342-b8e2-d811f1eefcf5",
   "metadata": {},
   "outputs": [
    {
     "name": "stdout",
     "output_type": "stream",
     "text": [
      "   HPI  Int_rate_x  US_GDP_x  Int_rate_y  US_GDP_y\n",
      "0   80           2        50           2        50\n",
      "1   85           3        55           3        55\n",
      "2   85           3        55           2        55\n",
      "3   85           2        55           3        55\n",
      "4   85           2        55           2        55\n",
      "5   88           2        65           2        65\n"
     ]
    }
   ],
   "source": [
    "print(pd.merge(df1, df2, on='HPI'))"
   ]
  },
  {
   "cell_type": "code",
   "execution_count": 4,
   "id": "f870f314-cdc7-4af0-96f0-7dfc77dff263",
   "metadata": {},
   "outputs": [
    {
     "name": "stdout",
     "output_type": "stream",
     "text": [
      "   HPI  Int_rate  US_GDP_x  US_GDP_y\n",
      "0   80         2        50        50\n",
      "1   85         3        55        55\n",
      "2   88         2        65        65\n",
      "3   85         2        55        55\n"
     ]
    }
   ],
   "source": [
    "print(pd.merge(df1, df2, on=['HPI', 'Int_rate']))"
   ]
  },
  {
   "cell_type": "code",
   "execution_count": 9,
   "id": "47a58ef2-c439-479a-90be-446a66018573",
   "metadata": {},
   "outputs": [
    {
     "name": "stdout",
     "output_type": "stream",
     "text": [
      "   Year  Int_rate  US_GDP  Unemployment  Low_tier_HPI\n",
      "0  2001         2      50             7            50\n",
      "1  2003         2      65             8            52\n",
      "2  2004         2      55             9            50\n"
     ]
    }
   ],
   "source": [
    "df1 = pd.DataFrame({'Year' : [2001, 2002, 2003, 2004],\n",
    "                    'Int_rate' : [2, 3, 2, 2],\n",
    "                    'US_GDP' : [50, 55, 65, 55]})\n",
    "\n",
    "df3 = pd.DataFrame({'Year' : [2001, 2003, 2004, 2005],\n",
    "                    'Unemployment' : [7, 8, 9, 6],\n",
    "                    'Low_tier_HPI' : [50, 52, 50, 53]})\n",
    "\n",
    "merged = pd.merge(df1, df3, on='Year')\n",
    "print(merged)"
   ]
  },
  {
   "cell_type": "code",
   "execution_count": 10,
   "id": "bc3f07e2-16d7-4374-b9e2-1185e442300e",
   "metadata": {},
   "outputs": [
    {
     "name": "stdout",
     "output_type": "stream",
     "text": [
      "      Int_rate  US_GDP  Unemployment  Low_tier_HPI\n",
      "Year                                              \n",
      "2001         2      50             7            50\n",
      "2003         2      65             8            52\n",
      "2004         2      55             9            50\n"
     ]
    }
   ],
   "source": [
    "merged.set_index('Year', inplace=True)\n",
    "print(merged)"
   ]
  },
  {
   "cell_type": "code",
   "execution_count": 11,
   "id": "80b21eb0-1a88-4a9f-bb39-d947d7c13769",
   "metadata": {},
   "outputs": [
    {
     "name": "stdout",
     "output_type": "stream",
     "text": [
      "      Int_rate  US_GDP  Unemployment  Low_tier_HPI\n",
      "Year                                              \n",
      "2001         2      50           7.0          50.0\n",
      "2002         3      55           NaN           NaN\n",
      "2003         2      65           8.0          52.0\n",
      "2004         2      55           9.0          50.0\n"
     ]
    }
   ],
   "source": [
    "merged = pd.merge(df1, df3, on='Year', how='left')\n",
    "merged.set_index('Year', inplace=True)\n",
    "print(merged)"
   ]
  },
  {
   "cell_type": "code",
   "execution_count": 12,
   "id": "c8b41ff3-4927-4a80-9f5c-18c58ec4a6e1",
   "metadata": {},
   "outputs": [
    {
     "name": "stdout",
     "output_type": "stream",
     "text": [
      "      Int_rate  US_GDP  Unemployment  Low_tier_HPI\n",
      "Year                                              \n",
      "2001       2.0    50.0             7            50\n",
      "2003       2.0    65.0             8            52\n",
      "2004       2.0    55.0             9            50\n",
      "2005       NaN     NaN             6            53\n"
     ]
    }
   ],
   "source": [
    "merged = pd.merge(df1, df3, on='Year', how='right')\n",
    "merged.set_index('Year', inplace=True)\n",
    "print(merged)"
   ]
  },
  {
   "cell_type": "code",
   "execution_count": 13,
   "id": "217d30b0-bf77-4611-bea2-ed5ddea79ddb",
   "metadata": {},
   "outputs": [
    {
     "name": "stdout",
     "output_type": "stream",
     "text": [
      "      Int_rate  US_GDP  Unemployment  Low_tier_HPI\n",
      "Year                                              \n",
      "2001         2      50             7            50\n",
      "2003         2      65             8            52\n",
      "2004         2      55             9            50\n"
     ]
    }
   ],
   "source": [
    "merged = pd.merge(df1, df3, on='Year', how='inner')  # default\n",
    "merged.set_index('Year', inplace=True)\n",
    "print(merged)"
   ]
  },
  {
   "cell_type": "code",
   "execution_count": 14,
   "id": "977f6c35-c340-432d-a477-e2dd97a6b776",
   "metadata": {},
   "outputs": [
    {
     "name": "stdout",
     "output_type": "stream",
     "text": [
      "      Int_rate  US_GDP  Unemployment  Low_tier_HPI\n",
      "Year                                              \n",
      "2001       2.0    50.0           7.0          50.0\n",
      "2002       3.0    55.0           NaN           NaN\n",
      "2003       2.0    65.0           8.0          52.0\n",
      "2004       2.0    55.0           9.0          50.0\n",
      "2005       NaN     NaN           6.0          53.0\n"
     ]
    }
   ],
   "source": [
    "merged = pd.merge(df1, df3, on='Year', how='outer')\n",
    "merged.set_index('Year', inplace=True)\n",
    "print(merged)"
   ]
  },
  {
   "cell_type": "code",
   "execution_count": null,
   "id": "54d3f265-cf2f-4431-a879-e9f4e47868a4",
   "metadata": {},
   "outputs": [],
   "source": []
  },
  {
   "cell_type": "code",
   "execution_count": null,
   "id": "91097180-a117-45db-bbd8-ca703b0dc8c3",
   "metadata": {},
   "outputs": [],
   "source": []
  },
  {
   "cell_type": "code",
   "execution_count": null,
   "id": "23a7f399-5e33-4cb5-99a8-a051de8bcf26",
   "metadata": {},
   "outputs": [],
   "source": []
  },
  {
   "cell_type": "code",
   "execution_count": null,
   "id": "c5e4315f-e45f-4106-80a0-f9c4eaa6e48e",
   "metadata": {},
   "outputs": [],
   "source": []
  },
  {
   "cell_type": "markdown",
   "id": "ef57a4fb-9a7f-49f5-8de2-107c3a3d8cda",
   "metadata": {},
   "source": [
    "## Joining"
   ]
  },
  {
   "cell_type": "code",
   "execution_count": 5,
   "id": "7474c72c-d2ec-4ac7-8f8d-874683b35e54",
   "metadata": {},
   "outputs": [],
   "source": [
    "df1 = pd.DataFrame({'HPI' : [80, 85, 88, 85],\n",
    "                    'Int_rate' : [2, 3, 2, 2],\n",
    "                    'US_GDP' : [50, 55, 65, 55]}, \n",
    "                   index = [2001, 2002, 2003, 2004])\n",
    "\n",
    "df2 = pd.DataFrame({'HPI' : [80, 85, 88, 85],\n",
    "                    'Int_rate' : [2, 3, 2, 2],\n",
    "                    'US_GDP' : [50, 55, 65, 55]}, \n",
    "                   index = [2005, 2006, 2007, 2008])\n",
    "\n",
    "df3 = pd.DataFrame({'HPI' : [80, 85, 88, 85],\n",
    "                    'Unemployment' : [7, 8, 9, 6],\n",
    "                    'Low_tier_HPI' : [50, 52, 50, 53]}, \n",
    "                   index = [2001, 2002, 2003, 2004])"
   ]
  },
  {
   "cell_type": "code",
   "execution_count": 7,
   "id": "1abce550-c15a-4e90-a999-65506e71a68a",
   "metadata": {},
   "outputs": [],
   "source": [
    "df1.set_index('HPI', inplace=True)\n",
    "df3.set_index('HPI', inplace=True)"
   ]
  },
  {
   "cell_type": "code",
   "execution_count": 8,
   "id": "4256d72c-fd93-43c3-a8dc-b0c300a12966",
   "metadata": {},
   "outputs": [
    {
     "name": "stdout",
     "output_type": "stream",
     "text": [
      "     Int_rate  US_GDP  Unemployment  Low_tier_HPI\n",
      "HPI                                              \n",
      "80          2      50             7            50\n",
      "85          3      55             8            52\n",
      "85          3      55             6            53\n",
      "85          2      55             8            52\n",
      "85          2      55             6            53\n",
      "88          2      65             9            50\n"
     ]
    }
   ],
   "source": [
    "joined = df1.join(df3)\n",
    "print(joined)"
   ]
  },
  {
   "cell_type": "code",
   "execution_count": 2,
   "id": "36b2f328-91db-4223-8ed9-9e0711aa38c4",
   "metadata": {},
   "outputs": [
    {
     "name": "stdout",
     "output_type": "stream",
     "text": [
      "      Int_rate  US_GDP  Unemployment  Low_tier_HPI\n",
      "Year                                              \n",
      "2001         2      50           7.0          50.0\n",
      "2002         3      55           NaN           NaN\n",
      "2003         2      65           8.0          52.0\n",
      "2004         2      55           9.0          50.0\n"
     ]
    }
   ],
   "source": [
    "import pandas as pd\n",
    "\n",
    "df1 = pd.DataFrame({'Year' : [2001, 2002, 2003, 2004],\n",
    "                    'Int_rate' : [2, 3, 2, 2],\n",
    "                    'US_GDP' : [50, 55, 65, 55]})\n",
    "\n",
    "df3 = pd.DataFrame({'Year' : [2001, 2003, 2004, 2005],\n",
    "                    'Unemployment' : [7, 8, 9, 6],\n",
    "                    'Low_tier_HPI' : [50, 52, 50, 53]})\n",
    "\n",
    "df1.set_index('Year', inplace=True)\n",
    "df3.set_index('Year', inplace=True)\n",
    "\n",
    "joined = df1.join(df3)\n",
    "print(joined)"
   ]
  },
  {
   "cell_type": "code",
   "execution_count": 6,
   "id": "d44309fe-3d3a-4398-a956-d1ad7f5f0132",
   "metadata": {},
   "outputs": [
    {
     "name": "stdout",
     "output_type": "stream",
     "text": [
      "Help on method join in module pandas.core.frame:\n",
      "\n",
      "join(other: 'DataFrame | Series', on: 'IndexLabel | None' = None, how: 'str' = 'left', lsuffix: 'str' = '', rsuffix: 'str' = '', sort: 'bool' = False) -> 'DataFrame' method of pandas.core.frame.DataFrame instance\n",
      "    Join columns of another DataFrame.\n",
      "    \n",
      "    Join columns with `other` DataFrame either on index or on a key\n",
      "    column. Efficiently join multiple DataFrame objects by index at once by\n",
      "    passing a list.\n",
      "    \n",
      "    Parameters\n",
      "    ----------\n",
      "    other : DataFrame, Series, or list of DataFrame\n",
      "        Index should be similar to one of the columns in this one. If a\n",
      "        Series is passed, its name attribute must be set, and that will be\n",
      "        used as the column name in the resulting joined DataFrame.\n",
      "    on : str, list of str, or array-like, optional\n",
      "        Column or index level name(s) in the caller to join on the index\n",
      "        in `other`, otherwise joins index-on-index. If multiple\n",
      "        values given, the `other` DataFrame must have a MultiIndex. Can\n",
      "        pass an array as the join key if it is not already contained in\n",
      "        the calling DataFrame. Like an Excel VLOOKUP operation.\n",
      "    how : {'left', 'right', 'outer', 'inner'}, default 'left'\n",
      "        How to handle the operation of the two objects.\n",
      "    \n",
      "        * left: use calling frame's index (or column if on is specified)\n",
      "        * right: use `other`'s index.\n",
      "        * outer: form union of calling frame's index (or column if on is\n",
      "          specified) with `other`'s index, and sort it.\n",
      "          lexicographically.\n",
      "        * inner: form intersection of calling frame's index (or column if\n",
      "          on is specified) with `other`'s index, preserving the order\n",
      "          of the calling's one.\n",
      "        * cross: creates the cartesian product from both frames, preserves the order\n",
      "          of the left keys.\n",
      "    \n",
      "          .. versionadded:: 1.2.0\n",
      "    \n",
      "    lsuffix : str, default ''\n",
      "        Suffix to use from left frame's overlapping columns.\n",
      "    rsuffix : str, default ''\n",
      "        Suffix to use from right frame's overlapping columns.\n",
      "    sort : bool, default False\n",
      "        Order result DataFrame lexicographically by the join key. If False,\n",
      "        the order of the join key depends on the join type (how keyword).\n",
      "    \n",
      "    Returns\n",
      "    -------\n",
      "    DataFrame\n",
      "        A dataframe containing columns from both the caller and `other`.\n",
      "    \n",
      "    See Also\n",
      "    --------\n",
      "    DataFrame.merge : For column(s)-on-column(s) operations.\n",
      "    \n",
      "    Notes\n",
      "    -----\n",
      "    Parameters `on`, `lsuffix`, and `rsuffix` are not supported when\n",
      "    passing a list of `DataFrame` objects.\n",
      "    \n",
      "    Support for specifying index levels as the `on` parameter was added\n",
      "    in version 0.23.0.\n",
      "    \n",
      "    Examples\n",
      "    --------\n",
      "    >>> df = pd.DataFrame({'key': ['K0', 'K1', 'K2', 'K3', 'K4', 'K5'],\n",
      "    ...                    'A': ['A0', 'A1', 'A2', 'A3', 'A4', 'A5']})\n",
      "    \n",
      "    >>> df\n",
      "      key   A\n",
      "    0  K0  A0\n",
      "    1  K1  A1\n",
      "    2  K2  A2\n",
      "    3  K3  A3\n",
      "    4  K4  A4\n",
      "    5  K5  A5\n",
      "    \n",
      "    >>> other = pd.DataFrame({'key': ['K0', 'K1', 'K2'],\n",
      "    ...                       'B': ['B0', 'B1', 'B2']})\n",
      "    \n",
      "    >>> other\n",
      "      key   B\n",
      "    0  K0  B0\n",
      "    1  K1  B1\n",
      "    2  K2  B2\n",
      "    \n",
      "    Join DataFrames using their indexes.\n",
      "    \n",
      "    >>> df.join(other, lsuffix='_caller', rsuffix='_other')\n",
      "      key_caller   A key_other    B\n",
      "    0         K0  A0        K0   B0\n",
      "    1         K1  A1        K1   B1\n",
      "    2         K2  A2        K2   B2\n",
      "    3         K3  A3       NaN  NaN\n",
      "    4         K4  A4       NaN  NaN\n",
      "    5         K5  A5       NaN  NaN\n",
      "    \n",
      "    If we want to join using the key columns, we need to set key to be\n",
      "    the index in both `df` and `other`. The joined DataFrame will have\n",
      "    key as its index.\n",
      "    \n",
      "    >>> df.set_index('key').join(other.set_index('key'))\n",
      "          A    B\n",
      "    key\n",
      "    K0   A0   B0\n",
      "    K1   A1   B1\n",
      "    K2   A2   B2\n",
      "    K3   A3  NaN\n",
      "    K4   A4  NaN\n",
      "    K5   A5  NaN\n",
      "    \n",
      "    Another option to join using the key columns is to use the `on`\n",
      "    parameter. DataFrame.join always uses `other`'s index but we can use\n",
      "    any column in `df`. This method preserves the original DataFrame's\n",
      "    index in the result.\n",
      "    \n",
      "    >>> df.join(other.set_index('key'), on='key')\n",
      "      key   A    B\n",
      "    0  K0  A0   B0\n",
      "    1  K1  A1   B1\n",
      "    2  K2  A2   B2\n",
      "    3  K3  A3  NaN\n",
      "    4  K4  A4  NaN\n",
      "    5  K5  A5  NaN\n",
      "    \n",
      "    Using non-unique key values shows how they are matched.\n",
      "    \n",
      "    >>> df = pd.DataFrame({'key': ['K0', 'K1', 'K1', 'K3', 'K0', 'K1'],\n",
      "    ...                    'A': ['A0', 'A1', 'A2', 'A3', 'A4', 'A5']})\n",
      "    \n",
      "    >>> df\n",
      "      key   A\n",
      "    0  K0  A0\n",
      "    1  K1  A1\n",
      "    2  K1  A2\n",
      "    3  K3  A3\n",
      "    4  K0  A4\n",
      "    5  K1  A5\n",
      "    \n",
      "    >>> df.join(other.set_index('key'), on='key')\n",
      "      key   A    B\n",
      "    0  K0  A0   B0\n",
      "    1  K1  A1   B1\n",
      "    2  K1  A2   B1\n",
      "    3  K3  A3  NaN\n",
      "    4  K0  A4   B0\n",
      "    5  K1  A5   B1\n",
      "\n"
     ]
    }
   ],
   "source": [
    "help(df1.join)"
   ]
  },
  {
   "cell_type": "code",
   "execution_count": 7,
   "id": "d35b63d2-77e8-4b04-8290-4f13877aae25",
   "metadata": {},
   "outputs": [
    {
     "name": "stdout",
     "output_type": "stream",
     "text": [
      "      Int_rate  US_GDP  Unemployment  Low_tier_HPI\n",
      "Year                                              \n",
      "2001       2.0    50.0             7            50\n",
      "2003       2.0    65.0             8            52\n",
      "2004       2.0    55.0             9            50\n",
      "2005       NaN     NaN             6            53\n"
     ]
    }
   ],
   "source": [
    "joined = df1.join(df3, how=\"right\")\n",
    "print(joined)"
   ]
  },
  {
   "cell_type": "code",
   "execution_count": 8,
   "id": "d934e369-5e9b-4b89-8123-fb45a6d2105e",
   "metadata": {},
   "outputs": [
    {
     "name": "stdout",
     "output_type": "stream",
     "text": [
      "      Int_rate  US_GDP  Unemployment  Low_tier_HPI\n",
      "Year                                              \n",
      "2001         2      50             7            50\n",
      "2003         2      65             8            52\n",
      "2004         2      55             9            50\n"
     ]
    }
   ],
   "source": [
    "joined = df1.join(df3, how=\"inner\")\n",
    "print(joined)"
   ]
  },
  {
   "cell_type": "code",
   "execution_count": 9,
   "id": "35f50822-7b45-4776-8b5c-6a18bc42ec5d",
   "metadata": {},
   "outputs": [
    {
     "name": "stdout",
     "output_type": "stream",
     "text": [
      "      Int_rate  US_GDP  Unemployment  Low_tier_HPI\n",
      "Year                                              \n",
      "2001       2.0    50.0           7.0          50.0\n",
      "2002       3.0    55.0           NaN           NaN\n",
      "2003       2.0    65.0           8.0          52.0\n",
      "2004       2.0    55.0           9.0          50.0\n",
      "2005       NaN     NaN           6.0          53.0\n"
     ]
    }
   ],
   "source": [
    "joined = df1.join(df3, how=\"outer\")\n",
    "print(joined)"
   ]
  },
  {
   "cell_type": "code",
   "execution_count": null,
   "id": "9fd85c1b-f657-44e5-980f-c3d62ef8a427",
   "metadata": {},
   "outputs": [],
   "source": []
  },
  {
   "cell_type": "code",
   "execution_count": null,
   "id": "6a49f17d-51e0-49b3-bef0-91fbd30ad652",
   "metadata": {},
   "outputs": [],
   "source": []
  },
  {
   "cell_type": "markdown",
   "id": "b129ea9f-0088-4551-a278-fe05080f1ad1",
   "metadata": {},
   "source": [
    "## Appending"
   ]
  },
  {
   "cell_type": "code",
   "execution_count": 11,
   "id": "75ef7796-b315-4cfe-8ff3-663be7bc2ec5",
   "metadata": {},
   "outputs": [
    {
     "name": "stdout",
     "output_type": "stream",
     "text": [
      "    Student_height  Student_weight Gender\n",
      "s1           176.2            85.1      M\n",
      "s2           158.4            90.2      F\n",
      "s3           167.6            76.8      M\n",
      "s4           156.2            80.4      M\n",
      "s5           161.4            78.9      F\n"
     ]
    }
   ],
   "source": [
    "import pandas as pd \n",
    "import numpy as np\n",
    "heights_A = pd.Series([176.2, 158.4, 167.6, 156.2, 161.4], index=[\"s1\", \"s2\", \"s3\", \"s4\", \"s5\"])\n",
    "weights_A = pd.Series([85.1, 90.2, 76.8, 80.4, 78.9], index=[\"s1\", \"s2\", \"s3\", \"s4\", \"s5\"])\n",
    "data = {\"Student_height\" : heights_A, \"Student_weight\" : weights_A}\n",
    "df_A = pd.DataFrame(data)\n",
    "# print(df_A)\n",
    "\n",
    "df_A[\"Gender\"] = [\"M\", \"F\", \"M\", \"M\", \"F\"]\n",
    "print(df_A)"
   ]
  },
  {
   "cell_type": "code",
   "execution_count": 12,
   "id": "57c30184-ed17-49cf-aa18-31f541d545c5",
   "metadata": {},
   "outputs": [
    {
     "name": "stdout",
     "output_type": "stream",
     "text": [
      "Student_height    165.4\n",
      "Student_weight     82.7\n",
      "Gender                F\n",
      "Name: s6, dtype: object\n"
     ]
    }
   ],
   "source": [
    "s = pd.Series([165.4, 82.7, \"F\"], index=[\"Student_height\", \"Student_weight\", \"Gender\"], name=\"s6\")\n",
    "print(s)"
   ]
  },
  {
   "cell_type": "code",
   "execution_count": 13,
   "id": "8eeeeaef-39be-456c-bdbc-90dc20e91dd4",
   "metadata": {},
   "outputs": [
    {
     "name": "stdout",
     "output_type": "stream",
     "text": [
      "    Student_height  Student_weight Gender\n",
      "s1           176.2            85.1      M\n",
      "s2           158.4            90.2      F\n",
      "s3           167.6            76.8      M\n",
      "s4           156.2            80.4      M\n",
      "s5           161.4            78.9      F\n",
      "s6           165.4            82.7      F\n"
     ]
    },
    {
     "name": "stderr",
     "output_type": "stream",
     "text": [
      "C:\\Users\\abdur\\AppData\\Local\\Temp\\ipykernel_7088\\1538049292.py:1: FutureWarning: The frame.append method is deprecated and will be removed from pandas in a future version. Use pandas.concat instead.\n",
      "  df_AA = df_A.append(s)\n"
     ]
    }
   ],
   "source": [
    "df_AA = df_A.append(s)\n",
    "print(df_AA)"
   ]
  },
  {
   "cell_type": "code",
   "execution_count": null,
   "id": "db6f2aab-8247-4738-aa44-9c93e27703fa",
   "metadata": {},
   "outputs": [],
   "source": []
  }
 ],
 "metadata": {
  "kernelspec": {
   "display_name": "Python 3 (ipykernel)",
   "language": "python",
   "name": "python3"
  },
  "language_info": {
   "codemirror_mode": {
    "name": "ipython",
    "version": 3
   },
   "file_extension": ".py",
   "mimetype": "text/x-python",
   "name": "python",
   "nbconvert_exporter": "python",
   "pygments_lexer": "ipython3",
   "version": "3.9.12"
  }
 },
 "nbformat": 4,
 "nbformat_minor": 5
}
