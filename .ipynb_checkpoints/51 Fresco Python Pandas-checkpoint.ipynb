{
 "cells": [
  {
   "cell_type": "markdown",
   "id": "efffa556-97b1-4cc3-8880-91ea6a9a7493",
   "metadata": {},
   "source": [
    "# Handson"
   ]
  },
  {
   "cell_type": "code",
   "execution_count": null,
   "id": "a979bfe9-2ec2-46be-b5e2-e09ecd50c77c",
   "metadata": {},
   "outputs": [],
   "source": []
  },
  {
   "cell_type": "code",
   "execution_count": null,
   "id": "33c54d08-d68f-4dd0-9694-af67fccafdce",
   "metadata": {},
   "outputs": [],
   "source": []
  },
  {
   "cell_type": "code",
   "execution_count": null,
   "id": "df6f2a3a-876d-42b3-86fd-a2ac0ce0ff01",
   "metadata": {},
   "outputs": [],
   "source": []
  },
  {
   "cell_type": "markdown",
   "id": "026c4fc3-080d-4740-b9e9-f6b5f59dcb7f",
   "metadata": {},
   "source": [
    "# Quiz"
   ]
  },
  {
   "cell_type": "code",
   "execution_count": null,
   "id": "a30ebf8a-0b08-440e-b448-b7d68b139d12",
   "metadata": {},
   "outputs": [],
   "source": []
  },
  {
   "cell_type": "code",
   "execution_count": null,
   "id": "67085a6e-a211-40bf-96db-9183a2f3677e",
   "metadata": {},
   "outputs": [],
   "source": []
  },
  {
   "cell_type": "markdown",
   "id": "29a10502-13e8-4c7b-9d6b-7c719e103478",
   "metadata": {},
   "source": [
    "### Quiz on Data Merging"
   ]
  },
  {
   "cell_type": "code",
   "execution_count": null,
   "id": "4dd5ceb4-6923-4d42-958a-ea6c5cb1d577",
   "metadata": {},
   "outputs": [],
   "source": []
  }
 ],
 "metadata": {
  "kernelspec": {
   "display_name": "Python 3 (ipykernel)",
   "language": "python",
   "name": "python3"
  },
  "language_info": {
   "codemirror_mode": {
    "name": "ipython",
    "version": 3
   },
   "file_extension": ".py",
   "mimetype": "text/x-python",
   "name": "python",
   "nbconvert_exporter": "python",
   "pygments_lexer": "ipython3",
   "version": "3.9.12"
  }
 },
 "nbformat": 4,
 "nbformat_minor": 5
}
